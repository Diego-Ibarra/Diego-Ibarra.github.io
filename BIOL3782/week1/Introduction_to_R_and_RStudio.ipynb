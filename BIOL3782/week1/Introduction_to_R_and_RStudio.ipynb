{
 "cells": [
  {
   "cell_type": "markdown",
   "metadata": {},
   "source": [
    "<div class=\"big_title\">LAB 1: Introduction to R and RStudio</div>\n",
    "\n",
    "BIO3782: Biologist's Toolkit (Dalhousie University)\n",
    "\n",
    "----------------------------------------"
   ]
  },
  {
   "cell_type": "markdown",
   "metadata": {},
   "source": [
    "# Lab mechanics (how to work through the labs of this course)\n",
    "\n",
    "For the labs in this course you will need 3 programs:\n",
    "\n",
    "1. ***Lab manual***: It is a web-page with instructions on what to do in the lab. If you are reading \"this\" you already found lab manual. The ***Lab manual*** is viewed inside your browser (e.g. Firefox, Chrome, Safari, etc).\n",
    "2. Brightspace ***LAB Quiz***: In the ***Lab manual*** there are several questions that you will need to answer in the corresponding Brightspace ***LAB Quiz***. Same as ***Lab manual***, the Brightspace ***LAB Quiz*** is viewed inside your browser (e.g. Firefox, Chrome, Safari, etc). You can get to the Quizzes section in Brightspace following **Assessment > Quizzes** \n",
    "3. ***RStudio***: This is the main program where you will use to write and run Python code. We'll talk more about RStudio below.\n",
    "\n",
    "## Work flow in a typical Lab\n",
    "\n",
    "<img src=\"./lab_mechanics.png\" width=\"750px\">\n",
    "\n",
    "<br>\n",
    "\n",
    "In most labs, you will be required to read along the ***Lab manual*** and copy-paste code from the ***lab manual*** into ***RStudio*** to run it. This will create output in the form of numbers, graphs, maps, etc. Every once in a while, you will need to answer <span style=\"background-color:#ff9900;color:balck;font-size:15px;border:1px solid #666666;padding:1px\">questions</span>, which are written inside orange boxes like the one below. The questions need to be answered in the corresponding Brightspace ***LAB quiz***. So, you will be jumping back and forth between the ***Lab manual***, ***RStudio*** and the Brightspace ***LAB quiz*** throughout the lab.\n",
    "\n",
    "Lets do a test question...\n"
   ]
  },
  {
   "cell_type": "markdown",
   "metadata": {},
   "source": [
    "<div class=\"Q\"><br><br>\n",
    "\n",
    "Sample question: Can you see THIS question in your Brightspace <b>LAB quiz?</b>\n",
    "\n",
    "<br><br><div class=\"qhelp\"></div></div>\n"
   ]
  },
  {
   "cell_type": "markdown",
   "metadata": {},
   "source": [
    "# Where is my code?\n",
    "\n",
    "Data, code and the results produced by the code can be stored in many places, including:\n",
    "\n",
    "1. **\"the cloud\"** (e.g. BrightSpace, your OneDrive, GitHub, a website, etc)\n",
    "2. Your \"physical\" computer (like the computer that you are working on at this moment). Additionally, within your computer, data and code can be stored:\n",
    "    * in the **hard-drive**,\n",
    "    * in **memory** and\n",
    "    * on the **screen**\n",
    "\n",
    "<img src=\"../media/cloud_computer.png\" width=\"500px\">\n",
    "\n",
    "Note that:\n",
    "* **Computers** can ONLY see and work with code and data stored in **memory**\n",
    "* **Humans** can ONLY see code and data shown on the **screen**\n",
    "* When turning your computer off, code/data in both the **memory** and the **screen** are <span style='color:red'>lost forever!</span> Therefore, make sure that you save your work on your **hard-drive** or **the cloud**, before turning your computer off. \n",
    "\n",
    "We will see below how to move code (and data) between all these storage areas (i.e. memory, hard-drive, screen, cloud). <span class=\"important\"></span> keeping track of where is your code/data stored, is one of the most common sources of errors during coding.\n"
   ]
  },
  {
   "cell_type": "markdown",
   "metadata": {},
   "source": [
    "# R\n",
    "\n",
    "<img src=\"../media/R_logo.png\" width=\"150px\">\n",
    "\n",
    "['R'](https://www.r-project.org) is the most commonly used programming language among biologists today, primarily due to its [object-oriented](https://en.wikipedia.org/wiki/Object-oriented_programming) syntax and its powerful statistical and graphics capabilities. `R` was preinstalled in all Lab computers; however, if you want to follow along in your own laptop, you can install R directly from https://www.r-project.org\n",
    "\n",
    "Note that when you installed `R`, a lot of code was copied from **\"The Cloud\"** into your **hard-drive**, in a location that we will call \"the R Directory\". The actual location of \"the R Directory\" is not important to us in this course. However, if you are curious and try to find it, just make sure that you **DO NOT** move, delete or add anything within \"the R Directory\"! You can break R's proper functioning. "
   ]
  },
  {
   "cell_type": "markdown",
   "metadata": {},
   "source": [
    "# RStudio\n",
    "\n",
    "<img src=\"../media/RStudio_logo.png\" width=\"150px\">\n",
    "\n",
    "`RStudio` is a free \"Integrated Development Environment\" (IDE) especially designed to work with R. `RStudio` was also pre-installed in all Lab computers; however, if you want to follow along in your own laptop, you can install `RStudio` directly from https://rstudio.com/\n",
    "\n",
    "* To open `RStudio`, search in the taskbar for \"RStudio\", the program looks as follows:\n",
    "\n",
    "<br>\n",
    "<img src=\"../media/RStudio.png\" width=\"800px\">\n",
    "<br>\n",
    "\n",
    "Note that when you open `RStudio`, behind the scenes a bunch of code was loaded into **memory** from \"the R Directory\" (i.e. **hard-drive**). \n",
    "\n",
    "The `RStudio` screen is divided in multiple panels. We will review the most important panels next. "
   ]
  },
  {
   "cell_type": "markdown",
   "metadata": {},
   "source": [
    "\n",
    "## R's \"Console\"\n",
    "\n",
    "<img src=\"../media/RStudio_console.png\" width=\"600px\">\n",
    "<br>\n",
    "\n",
    "The <span class=\"console\"></span> is a live instance of R. It is the most direct way to connect your computer's **memory** (i.e. where R is loaded) to your **screen**. This is the place where R will display error messages, warnings, and some code output. The <span class=\"console\"></span> is also where you can quickly interact with R by writing code and then clicking [Enter] (note that when you click [Enter], anything you wrote on the <span class=\"console\"></span> will be loaded to memory and executed immediately). Let's try it:\n"
   ]
  },
  {
   "cell_type": "markdown",
   "metadata": {},
   "source": [
    "<div class=\"T\"></div>\n",
    "\n",
    "Type the following code in the <span class=\"console\"></span>, then press [Enter]"
   ]
  },
  {
   "cell_type": "code",
   "execution_count": 477,
   "metadata": {},
   "outputs": [
    {
     "name": "stdout",
     "output_type": "stream",
     "text": [
      "[1] \"hello world!\"\n"
     ]
    }
   ],
   "source": [
    "print('hello world!')"
   ]
  },
  {
   "cell_type": "markdown",
   "metadata": {},
   "source": [
    "<div class=\"Q\"><br><br>\n",
    "\n",
    "After you typed:<br><br>\n",
    "    \n",
    "<div class=\"code\">print('hello world!')</div><br>\n",
    "    \n",
    "What got displayed on the screen?\n",
    "\n",
    "<br><br><div class=\"qhelp\"></div></div>\n"
   ]
  },
  {
   "cell_type": "markdown",
   "metadata": {},
   "source": [
    "You can also use R's console as a simple calculator."
   ]
  },
  {
   "cell_type": "markdown",
   "metadata": {},
   "source": [
    "<div class=\"T\"></div>\n",
    "\n",
    "Type the following code in the <span class=\"console\"></span>, then press [Enter] "
   ]
  },
  {
   "cell_type": "code",
   "execution_count": 478,
   "metadata": {},
   "outputs": [
    {
     "data": {
      "text/html": [
       "23"
      ],
      "text/latex": [
       "23"
      ],
      "text/markdown": [
       "23"
      ],
      "text/plain": [
       "[1] 23"
      ]
     },
     "metadata": {},
     "output_type": "display_data"
    }
   ],
   "source": [
    "14 + 9"
   ]
  },
  {
   "cell_type": "markdown",
   "metadata": {},
   "source": [
    "Again, it is important to note that when you clicked [Enter], anything you wrote on the <span class=\"console\"></span> was loaded to memory and executed immediately."
   ]
  },
  {
   "cell_type": "markdown",
   "metadata": {},
   "source": [
    "## RStudio's Help panel (and mini introduction to functions)\n",
    "\n",
    "In the code above (i.e. `print('hello world!')`), we used the function `print()`. We will do a whole chapter on **functions** later. However, since we will use a few functions before we get to the functions chapter (like the `print()` function), I need to give you a mini introduction to functions now.\n",
    "\n",
    "Most of the \"fancy\" work done in R is done through functions (e.g. calculate means, standard deviations, print stuff, etc). Most of them follow the generic nomeclature `FunctionName(Input)`. However, in some case you can give additional \"arguments\" that tell the function additional instructions on what to do with the input, in this case the generic nomeclature is `FunctionName(Input, Arguments)`.\n",
    "\n",
    "The instruction manual of every function in R is accessible via the **Help panel**. To access it simple chick on the help tab; and to use it simply type the name of the function in the search bar within the Help panel.\n",
    "\n",
    "<img src=\"./help_panel.png\" width=\"600px\">"
   ]
  },
  {
   "cell_type": "markdown",
   "metadata": {},
   "source": [
    "## RStudio's \"Editor\"\n",
    "\n",
    "To be able to see the <span class=\"editor\"></span>, you need to have an \"R script\" file open. If you don't have any file open, you have to create a new one by clicking on the \"green plus sign\" and selecting \"R script\" (see below):\n",
    "\n",
    "<img src=\"./RStudio_create_new_file.png\" width=\"500px\">\n",
    "\n",
    "<br>\n",
    "<br>\n",
    "\n",
    "The <span class=\"editor\"></span> is the space where you write your code so that you can execute it later. The <span class=\"editor\"></span> is shown below inside the green box.\n",
    "\n",
    "<img src=\"./RStudio_editor.png\" width=\"800px\">\n",
    "\n",
    "The <span class=\"editor\"></span> is just a text editor like Notepad (in Windows) or TextEdit (in Mac). However, note that RStudio's <span class=\"editor\"></span> color-codes your text so that it can be read with ease. It will also perform some basic quality control and will tell you if you made a mistake (more on this later).\n",
    "\n"
   ]
  },
  {
   "cell_type": "markdown",
   "metadata": {},
   "source": [
    "<div class=\"T\"></div>\n",
    "\n",
    "If you haven't open a new R script file, follow instructions above to create one, and then type the code below in the  <span class=\"editor\"></span>: "
   ]
  },
  {
   "cell_type": "code",
   "execution_count": 479,
   "metadata": {},
   "outputs": [
    {
     "name": "stdout",
     "output_type": "stream",
     "text": [
      "[1] \"Hello world!\"\n"
     ]
    }
   ],
   "source": [
    "print('Hello world!')"
   ]
  },
  {
   "cell_type": "markdown",
   "metadata": {},
   "source": [
    "Great! Now it is time to <span class=\"run\"></span> your script!"
   ]
  },
  {
   "cell_type": "markdown",
   "metadata": {},
   "source": [
    "## Running you code\n",
    "\n",
    "There are many ways to run the code you wrote in the editor. They require you clicking one the \"run\" buttons (see below) or using keyboard shortcuts.\n",
    "\n",
    "<img src=\"./run_button.png\" width=\"800px\">\n",
    "\n",
    "\n",
    "### Executing a Single Line\n",
    "To execute the line of source code where the cursor currently resides you press the Ctrl+Enter key (or use the Run toolbar button).\n",
    "\n",
    "After executing the line of code, RStudio automatically advances the cursor to the next line. This enables you to single-step through a sequence of lines.\n",
    "\n",
    "### Executing Multiple Lines\n",
    "There are three ways to execute multiple lines from within the editor:\n",
    "\n",
    "* Select the lines and press the Ctrl+Enter key (or use the Run toolbar button); or\n",
    "* After executing a selection of code, use the Re-Run Previous Region command (or its associated toolbar button) to run the same selection again. Note that changes to the selection including additional, removal, and modification of lines will be reflected in this subsequent run of the selection.\n",
    "* To run the entire document, press the Ctrl+Shift+Enter key (or use the Source toolbar button).\n",
    "\n",
    "<span class=\"note\"></span> When you click the \"run\" button, RStudio automatically loads the code from the **Screen** (i.e. the Editor) into **memory** for execution.\n",
    "\n",
    "Let's do a test. Type the following in the <span class=\"editor\"></span> and click <span class=\"run\"></span>"
   ]
  },
  {
   "cell_type": "markdown",
   "metadata": {},
   "source": [
    "<div class=\"T\"></div>\n",
    "\n",
    "Run your script (i.e. the one you made in the task above), by clicking in the button \"Source\". If your script ran properly, you should be able to `\"Hello world!\"` in the <span class=\"console\"></span>."
   ]
  },
  {
   "cell_type": "markdown",
   "metadata": {},
   "source": [
    "<div class=\"T\"></div>\n",
    "\n",
    "Try running your code with all the buttons and keyboard shortcuts explained above."
   ]
  },
  {
   "cell_type": "markdown",
   "metadata": {},
   "source": [
    "<span class=\"important\"></span> As you see, every time you run the code in the <span class=\"editor\"></span>, the output is displayed in the <span class=\"console\"></span>"
   ]
  },
  {
   "cell_type": "markdown",
   "metadata": {},
   "source": [
    "<div class=\"Q\"><br><br>\n",
    "\n",
    "After you write some code in the <b>Editor</b>, what happens when you click the <b>\"source\"</b> button?\n",
    "\n",
    "<br><br><div class=\"qhelp\"></div></div>\n"
   ]
  },
  {
   "cell_type": "markdown",
   "metadata": {},
   "source": [
    "## RStudio's \"Working Directory\"\n",
    "\n",
    "The ***working directory*** is the location in your computer where RStudio is reading and writing files. If you click on the **Files** tab, you likely will be viewing the ***working directory*** and its contents. Also, within the **Files** tab, you can click on the `More` button to \"Set the working directory\" or \"Go to the Working Directory\". \n",
    "\n",
    "<img src=\"./working_directory.png\" width=\"800px\">\n",
    "\n",
    "The location displayed in the **Files** tab is not always the working directory. Therefore, the best way to get the working directory, use the `getwd()` function, see task below."
   ]
  },
  {
   "cell_type": "markdown",
   "metadata": {},
   "source": [
    "<div class=\"T\"></div>\n",
    "\n",
    "Type in the <span class=\"console\"></span> the following line and click [Enter]."
   ]
  },
  {
   "cell_type": "code",
   "execution_count": 480,
   "metadata": {},
   "outputs": [
    {
     "data": {
      "text/html": [
       "'C:/Users/Diego/Documents/6.Biologist\\'s Toolkit/bitbucket/biol3782/week1'"
      ],
      "text/latex": [
       "'C:/Users/Diego/Documents/6.Biologist\\textbackslash{}'s Toolkit/bitbucket/biol3782/week1'"
      ],
      "text/markdown": [
       "'C:/Users/Diego/Documents/6.Biologist\\'s Toolkit/bitbucket/biol3782/week1'"
      ],
      "text/plain": [
       "[1] \"C:/Users/Diego/Documents/6.Biologist's Toolkit/bitbucket/biol3782/week1\""
      ]
     },
     "metadata": {},
     "output_type": "display_data"
    }
   ],
   "source": [
    "getwd()"
   ]
  },
  {
   "cell_type": "markdown",
   "metadata": {},
   "source": [
    "* Did you see get the working directory?\n",
    "\n",
    "\n",
    "* Did it match the location shown in the ***Files*** tab."
   ]
  },
  {
   "cell_type": "markdown",
   "metadata": {},
   "source": [
    "<span class=\"important\"></span> When you are working on a lab that requires ancillary data files or ancillary R code files, you need to make sure these files are in the ***working directory***. You can download them directly to the ***working directory***, or you can change the ***working directory*** to be folder where you downloaded your files.\n",
    "\n",
    "\n",
    "### Change the \"Working directory\"\n",
    "To change the ***working directory***, you can:\n",
    "\n",
    "* (1) go to the **Files** tab, (2) navigate to the folder that you want to make your new ***working directory***, (3) click on the \"More\" button, and (4) select ***Set As Working Directory***\n",
    "\n",
    "\n",
    "<img src=\"./working_directory.png\" width=\"500px\">\n",
    "\n",
    "or you can \n",
    "\n",
    "* Use the `setwd()` function. See example below that I wrote to change the Working Directory in **my** computer:"
   ]
  },
  {
   "cell_type": "markdown",
   "metadata": {},
   "source": [
    "<div class=\"Q\"><br><br>\n",
    "\n",
    "You are starting to work on a lab that requires 2 ancillary data files and 3 ancillary R code files. You download all these files from BrightSpace into you Laptop. Which of the following describes best what happened to the data/code?\n",
    "\n",
    "<br><br><div class=\"qhelp\"></div></div>\n"
   ]
  },
  {
   "cell_type": "markdown",
   "metadata": {},
   "source": [
    "<div class=\"Q\"><br><br>\n",
    "\n",
    "You are starting to work on a lab that requires 2 ancillary data files and 3 ancillary R script files. <b>Where</b> in your laptop do you have to put these files?\n",
    "\n",
    "<br><br><div class=\"qhelp\"></div></div>\n"
   ]
  },
  {
   "cell_type": "markdown",
   "metadata": {},
   "source": [
    "## Saving you code\n",
    "\n",
    "To save your file to your hard-drive, simply click the \"Save\" button on the Editor (it looks like a floppy disk). You can name your file anything you want, but the extension will be automatically set as `.R`, which is the default extension for R files.\n",
    "\n",
    "<span class=\"note\"></span> After you write some code in the ***Editor***, clicking the \"save\" button technically transfers code from the **Screen** (i.e. the Editor) into a file in your **hard-drive**.\n"
   ]
  },
  {
   "cell_type": "markdown",
   "metadata": {},
   "source": [
    "<div class=\"T\"></div>\n",
    "\n",
    "Save the R script file you created earlier. Name it <span class=\"file\">hello_world.R</span>"
   ]
  },
  {
   "cell_type": "markdown",
   "metadata": {},
   "source": [
    "<div class=\"Q\"><br><br>\n",
    "\n",
    "After you write some code in the <b>Editor</b>, what happens when you click the <b>\"save\"</b> button?\n",
    "\n",
    "<br><br><div class=\"qhelp\"></div></div>\n"
   ]
  },
  {
   "cell_type": "markdown",
   "metadata": {},
   "source": [
    "### Real-life Example: Downloading real-time data from an oceanographic buoy in Oregon\n",
    "\n",
    "To explain the **Plots** and **Environment** panels in RStudio, it is required that we load some data and make a plot. I thought this would be a nice opportunity to do some real-life data mining and visualization. Let's download data from a bouy in Oregon. USA.\n",
    "\n",
    "There is an autonomous buoy in the Columbia River (Oregon, USA) that broadcasts real-time ocean data via the following server: http://columbia.loboviz.com/\n",
    "\n",
    "<table>\n",
    "  <tr>\n",
    "    <td><img src=\"./lobo.jpg\" width=\"200px\">LOBO Buoy</td>\n",
    "    <td><img src=\"./columbia_river.jpg\" width=\"300px\">Columbia River (Oregon, USA)</td>\n",
    "  </tr>\n",
    "</table>\n",
    "\n",
    "\n",
    "<div class=\"T\"></div>\n",
    "\n",
    "The following code connects to the buoy's server, downloads data, and makes a simple plot. **Note that A LOT gets done with just 3 lines of code.** This is the magic of \"coding\"!\n",
    "\n",
    "In RStudio's <span class=\"editor\"></span> open a new file and save it as <span class=\"file\">buoy.R</span>. Copy-paste the code below to your new file and click <span class='source'></span>"
   ]
  },
  {
   "cell_type": "code",
   "execution_count": 481,
   "metadata": {},
   "outputs": [
    {
     "data": {
      "image/png": "[encoded data removed]",
      "text/plain": [
       "plot without title"
      ]
     },
     "metadata": {},
     "output_type": "display_data"
    }
   ],
   "source": [
    "# Define buoy's URL\n",
    "bouyURL <- \"http://columbia.loboviz.com/cgi-data/nph-data.cgi?x=date&y=temperature&min_date=20180820&max_date=20180907&node=32&data_format=text\"\n",
    "\n",
    "# Read data directly from buoy\n",
    "data <- read.csv(bouyURL, sep = \"\\t\", skip = 2)\n",
    "\n",
    "# Do quick plot\n",
    "plot.ts(data[2])"
   ]
  },
  {
   "cell_type": "markdown",
   "metadata": {},
   "source": [
    "In this simple graph, the time x-axis is in not displayed as dates, but instead as \"record number\". Therefore we do not know if this time-series spans a few weeks or a few decades. However, we can probably deduce that the time span by looking at the y-axis. If the time-series span a few decades, you should see high temperatures of around 25 &deg;C (maximum in the summer) and low temperatures around 5 or 10 &deg;C (minimum in the winter). We do not see that range in the y-axis. Therefore, I think the time-series spans only a few weeks in late summer or early fall, because the temperature starts high (approx. 22 &deg;C) and decrease a couple of degrees (~20 &deg;C) over the span of the series. While Oregon is not a cold as Halifax, the water surface in the Columbia River should decrease in winter to just 5 or 10 &deg;C, which we do not see in the plot. The high frequency variability (the up and down \"wiggles\" in temperature) is likely due to day-night temperature fluctuations in air temperature, or ebb-flood tide fluctuations. **All that from 3 lines of code!**"
   ]
  },
  {
   "cell_type": "markdown",
   "metadata": {},
   "source": [
    "## RStudio's \"Plots\" panel\n",
    "\n",
    "After you ran <span class=\"file\">buoy.R</span>, you will see the plot above in your RStudio's \"Plots\" panel (see below).\n",
    "\n",
    "<img src=\"./plots_panel.png\" width=\"500px\">"
   ]
  },
  {
   "cell_type": "markdown",
   "metadata": {},
   "source": [
    "## RStudio's \"Environment\" panel\n",
    "\n",
    "After you ran <span class=\"file\">buoy.R</span>, you will see the variables you created (i.e. `bouyURL` and `data`) in the \"Environment panel\" (see below).\n",
    "\n",
    "<img src=\"./environment_panel.png\" width=\"500px\">"
   ]
  },
  {
   "cell_type": "markdown",
   "metadata": {},
   "source": [
    "After you ran <span class=\"file\">buoy.R</span> and clicked <span class='source'></span>, R read the code you wrote on the editor, created the `bouyURL` and `data` variables in **memory**, and sent their name and value to the screen (in the Environment panel). Again, all that with the click of a button!\n",
    "\n",
    "This finishes our mini-tutorial to RStudio. Now it is time to start learning R."
   ]
  },
  {
   "cell_type": "markdown",
   "metadata": {},
   "source": [
    "-------------------------------\n",
    "# Comments and statements\n",
    "\n",
    "* **Comments** are lines of text meant to be read ONLY by humans (i.e. the computer ignores these lines). Comments usually contain annotations and additional information to make easier to understand the code to the programmer. **Comments** are preceded by a **#** (hashtag)\n",
    "\n",
    "* A **Statement** is a line of text read by the computer. This is \"the code\". A statement contains instructions for the computer to do a simple task.\n",
    "\n",
    "Take a look to the sequence of comments and statements below:\n"
   ]
  },
  {
   "cell_type": "code",
   "execution_count": 482,
   "metadata": {},
   "outputs": [
    {
     "name": "stdout",
     "output_type": "stream",
     "text": [
      "[1] 5\n"
     ]
    }
   ],
   "source": [
    "# This is a Comment because it is preceded by a # (hashtag)\n",
    "x <- 5\n",
    "\n",
    "# Lets print our variables to screen\n",
    "print(x) # Note that comments can be written after a statement (but not before)"
   ]
  },
  {
   "cell_type": "markdown",
   "metadata": {},
   "source": [
    "Above...\n",
    "* The first line is a **comment**\n",
    "* The second line is a **statement** assigning the value of `x` to be 5 (see \"Variables\" section below for more on this)\n",
    "* Then there is a blank line. Blank lines are ignored by R (they exist to space the code and make it easier to read).\n",
    "* The fourth line is a **comment**\n",
    "* The fifth line is a **statement** asking R to print-to-screen the value of `x` to screen. After the statement, there is another comment \n",
    "\n",
    "If you copy-paste the code above to the ***RStudio's Editor*** and click [run], it will print a `5` to the console.\n"
   ]
  },
  {
   "cell_type": "markdown",
   "metadata": {},
   "source": [
    "<div class=\"note\"> Once `x = 5` has been executed, the value of `x` will be stored \"in memory\" until you turn off R, until you delete `x`, or until you update `x` with a different value.</div>"
   ]
  },
  {
   "cell_type": "markdown",
   "metadata": {},
   "source": [
    "## \"Commenting out\" code\n",
    "\n",
    "The beauty of: <span class=\"nomenclature\">Control</span> + <span class=\"nomenclature\">Shift</span> + <span class=\"nomenclature\">c</span>\n",
    "\n",
    "In RStudio, you can comment many lines at once by selecting the lines that you want to \"comment out\" and then click  `Ctr` + `Shift` + `c`. This will insert a `#` at the beginning of all the selected lines. Note that you can do the reverse (i.e. **\"uncomment code\"**) by selecting several lines beginning with a `#` and again click `Ctr` + `Shift` + `c`.\n",
    "\n",
    "Note that **\"commenting out\"** code is very useful during code development or testing, when you want to \"disable\" a few lines of code while you run tests or diagnostics; then, at a later time, you can \"enable\" (i.e. uncomment) your code without ever having to delete or re-write your code."
   ]
  },
  {
   "cell_type": "markdown",
   "metadata": {},
   "source": [
    "<div class=\"T\"></div>\n",
    "\n",
    "In the file that you created above (i.e. <span class=\"file\">buoy.R</span>). Select all lines and click  `Ctr` + `Shift` + `c`. \n",
    "\n",
    "* What happened to your code?\n",
    "\n",
    "Select all lines again and click  `Ctr` + `Shift` + `c` a second time. \n",
    "\n",
    "* What happened to your code?"
   ]
  },
  {
   "cell_type": "markdown",
   "metadata": {},
   "source": [
    "# Functions and their arguments\n",
    "\n",
    "<span class=\"TODO\">[Base this on “Intro to R” of Data Carpentry: Ecology]</span>"
   ]
  },
  {
   "cell_type": "markdown",
   "metadata": {},
   "source": [
    "# Variables\n",
    "\n",
    "<img src=\"./sugar_cube.png\" width=\"300px\">\n",
    "\n",
    "A **Variable** is a user-defined label that can be used to name anything. I like to think \"Variables\" as **stickers** that you can glue to anything to give it a name. In the photo above, the \"Variable **Name**\" is what you wrote on the sticker (in this case, \"Sugar\") and the \"Variable **Value**\" is whatever you glued your sticker to (in this case, a 1 gr sugar cube). \n",
    "\n",
    "In R, the way to create variables is with `<-`, `->` and `=`. See examples below:"
   ]
  },
  {
   "cell_type": "code",
   "execution_count": 483,
   "metadata": {},
   "outputs": [],
   "source": [
    "x <- 5 # Example 1\n",
    "\n",
    "5 -> x # Example 2\n",
    "\n",
    "x = 5  # Example 3"
   ]
  },
  {
   "cell_type": "markdown",
   "metadata": {},
   "source": [
    "The convention of using the \"arrow\" symbols (i.e. `<-` and `->`) comes from the precursor of R, the [S Programming Language](https://en.wikipedia.org/wiki/S_(programming_language)). I personally prefer using `=` because `<-` requires you to type two characters (one needing the \"shift\" key); also the majority of other languages (e.g. Python, C++, etc.) use `=`. However, note that `=` only declares the variable in the current workspace (more on this later). \n",
    "\n",
    "Either way, by far `<-` is the most used way to create variables by the R community, so we'll stick with this in this course.\n",
    "\n",
    "In generic terms, the proper **nomenclature** to \"declare\" a variable is as follows:\n",
    "\n",
    "<span class=\"nomenclature\">VariableName <- VariableValue</span>\n",
    "    \n",
    "Lets do a variable:<br><br>\n",
    "    \n",
    "<div class=\"T\"></div>\n",
    "\n",
    "Type in the <span class=\"console\"></span> the line below and click [Enter]"
   ]
  },
  {
   "cell_type": "code",
   "execution_count": 484,
   "metadata": {},
   "outputs": [],
   "source": [
    "x <- 5 "
   ]
  },
  {
   "cell_type": "markdown",
   "metadata": {},
   "source": [
    "Even though it looks like nothing happened, when you clicked [Enter], R create the new variable `x` in memory and assigned the value `5` to it. You can see the new variable `x`, and its value `5`, in the **Environment panel**. Alternatively, you can type the \"Variable **Name**\" in the <span class=\"console\"></span> to get the \"Variable **Value**\":\n",
    "\n",
    "Type in the <span class=\"console\"></span> the line below and click [Enter]"
   ]
  },
  {
   "cell_type": "code",
   "execution_count": 485,
   "metadata": {},
   "outputs": [
    {
     "data": {
      "text/html": [
       "5"
      ],
      "text/latex": [
       "5"
      ],
      "text/markdown": [
       "5"
      ],
      "text/plain": [
       "[1] 5"
      ]
     },
     "metadata": {},
     "output_type": "display_data"
    }
   ],
   "source": [
    "x "
   ]
  },
  {
   "cell_type": "markdown",
   "metadata": {},
   "source": [
    "Lets do another variable:\n",
    "\n",
    "Copy-paste the code below into the <span class=\"console\"></span> and click [Enter]:"
   ]
  },
  {
   "cell_type": "code",
   "execution_count": 486,
   "metadata": {},
   "outputs": [
    {
     "data": {
      "text/html": [
       "3000"
      ],
      "text/latex": [
       "3000"
      ],
      "text/markdown": [
       "3000"
      ],
      "text/plain": [
       "[1] 3000"
      ]
     },
     "metadata": {},
     "output_type": "display_data"
    }
   ],
   "source": [
    "y <- 3000\n",
    "\n",
    "y"
   ]
  },
  {
   "cell_type": "markdown",
   "metadata": {},
   "source": [
    "<span class=\"note\"></span> Above, we bundled two steps in one <span class=\"console\"></span> entry: (1) we create the variable `y` with the value `3000`, and (2) we display the value of `y` to screen."
   ]
  },
  {
   "cell_type": "markdown",
   "metadata": {},
   "source": [
    "Lets do two more:\n",
    "\n",
    "Copy-paste the code below into the <span class=\"console\"></span> and click [Enter]: "
   ]
  },
  {
   "cell_type": "code",
   "execution_count": 487,
   "metadata": {},
   "outputs": [
    {
     "data": {
      "text/html": [
       "0"
      ],
      "text/latex": [
       "0"
      ],
      "text/markdown": [
       "0"
      ],
      "text/plain": [
       "[1] 0"
      ]
     },
     "metadata": {},
     "output_type": "display_data"
    },
    {
     "data": {
      "text/html": [
       "35"
      ],
      "text/latex": [
       "35"
      ],
      "text/markdown": [
       "35"
      ],
      "text/plain": [
       "[1] 35"
      ]
     },
     "metadata": {},
     "output_type": "display_data"
    }
   ],
   "source": [
    "a = 0\n",
    "\n",
    "a\n",
    "\n",
    "my_cute_variable <- 35\n",
    "\n",
    "my_cute_variable"
   ]
  },
  {
   "cell_type": "markdown",
   "metadata": {},
   "source": [
    "<span class=\"important\"></span> While you can name your variables anything you want, it is a good practice to choose variable names that describe what is stored within the variable. `Temperature` is better than `col1`, `number_eggs` is better than `e`, `TransectDensity` is better than `td`."
   ]
  },
  {
   "cell_type": "markdown",
   "metadata": {},
   "source": [
    "<div class=\"Q\"><br><br>\n",
    "\n",
    "Take a look at the code you wrote in your file \"bouy.R\" (or see below).<br><br>\n",
    "\n",
    "<span class=\"codeX\">#Define buoy's URL<br>\n",
    "bouyURL = \"http://columbia.loboviz.com/cgi-data/nph-data.cgi? <br> \n",
    "            x=date&y=temperature&min_date=20180820&max_date=20180907&node=32&data_format=text\"<br>\n",
    "<br>\n",
    "#Read data directly from buoy<br>\n",
    "data = read.csv(bouyURL, sep = \"\\t\", skip = 2)<br>\n",
    "<br>\n",
    "#Do quick plot<br>\n",
    "plot.ts(data[2])</span> \n",
    "\n",
    "    \n",
    "<br><br> \n",
    "Which of the following are <b>variables</b>?\n",
    "    \n",
    "    \n",
    "<br><br><div class=\"qhelp\"></div></div>\n"
   ]
  },
  {
   "cell_type": "markdown",
   "metadata": {},
   "source": [
    "## Check \"Variables\" loaded in memory\n",
    "\n",
    "As we saw above, you can use RStudio's ***Environment panel*** to see what **variables** are currently loaded into **memory**, and well as their values.\n",
    "\n",
    "<img src=\"./environment_panel.png\" width=\"500px\">\n",
    "\n",
    "You can also see a list of what **variables** are currently loaded into **memory** by executing the function `ls()` on RStudio's **console**:"
   ]
  },
  {
   "cell_type": "code",
   "execution_count": 488,
   "metadata": {},
   "outputs": [
    {
     "data": {
      "text/html": [
       "<ol class=list-inline>\n",
       "\t<li>'a'</li>\n",
       "\t<li>'b'</li>\n",
       "\t<li>'bouyURL'</li>\n",
       "\t<li>'cssFile'</li>\n",
       "\t<li>'d'</li>\n",
       "\t<li>'data'</li>\n",
       "\t<li>'m'</li>\n",
       "\t<li>'my_cute_variable'</li>\n",
       "\t<li>'x'</li>\n",
       "\t<li>'y'</li>\n",
       "</ol>\n"
      ],
      "text/latex": [
       "\\begin{enumerate*}\n",
       "\\item 'a'\n",
       "\\item 'b'\n",
       "\\item 'bouyURL'\n",
       "\\item 'cssFile'\n",
       "\\item 'd'\n",
       "\\item 'data'\n",
       "\\item 'm'\n",
       "\\item 'my\\_cute\\_variable'\n",
       "\\item 'x'\n",
       "\\item 'y'\n",
       "\\end{enumerate*}\n"
      ],
      "text/markdown": [
       "1. 'a'\n",
       "2. 'b'\n",
       "3. 'bouyURL'\n",
       "4. 'cssFile'\n",
       "5. 'd'\n",
       "6. 'data'\n",
       "7. 'm'\n",
       "8. 'my_cute_variable'\n",
       "9. 'x'\n",
       "10. 'y'\n",
       "\n",
       "\n"
      ],
      "text/plain": [
       " [1] \"a\"                \"b\"                \"bouyURL\"          \"cssFile\"         \n",
       " [5] \"d\"                \"data\"             \"m\"                \"my_cute_variable\"\n",
       " [9] \"x\"                \"y\"               "
      ]
     },
     "metadata": {},
     "output_type": "display_data"
    }
   ],
   "source": [
    "ls()"
   ]
  },
  {
   "cell_type": "markdown",
   "metadata": {},
   "source": [
    "## Overwriting \"Variables\" values\n",
    "\n",
    "When you create a **Variable**, you assign a Variable **Value** to it. However, you can change its Variable **Value** at anytime simply by assigning to it a different value (kinda' \"overwriting\" or \"updating\" its value). See below:"
   ]
  },
  {
   "cell_type": "code",
   "execution_count": 489,
   "metadata": {},
   "outputs": [
    {
     "name": "stdout",
     "output_type": "stream",
     "text": [
      "[1] 4\n",
      "[1] 2986\n"
     ]
    }
   ],
   "source": [
    "x <- 4 # Assign value of 4 to variable \"a\"\n",
    "print(x) # Check the value of \"a\"\n",
    "\n",
    "# Lets change the value of \"a\"\n",
    "x <- 2986 # Assign value 4\n",
    "print(x) # Check again the value of \"a\""
   ]
  },
  {
   "cell_type": "markdown",
   "metadata": {},
   "source": [
    "## Deleting \"Variables\"\n",
    "\n",
    "### Deleting ONE variable\n",
    "\n",
    "* To remove one variable, use the `rm()` function:"
   ]
  },
  {
   "cell_type": "code",
   "execution_count": 490,
   "metadata": {},
   "outputs": [
    {
     "data": {
      "text/html": [
       "<ol class=list-inline>\n",
       "\t<li>'a'</li>\n",
       "\t<li>'b'</li>\n",
       "\t<li>'bouyURL'</li>\n",
       "\t<li>'cssFile'</li>\n",
       "\t<li>'d'</li>\n",
       "\t<li>'data'</li>\n",
       "\t<li>'m'</li>\n",
       "\t<li>'my_cute_variable'</li>\n",
       "\t<li>'x'</li>\n",
       "\t<li>'y'</li>\n",
       "</ol>\n"
      ],
      "text/latex": [
       "\\begin{enumerate*}\n",
       "\\item 'a'\n",
       "\\item 'b'\n",
       "\\item 'bouyURL'\n",
       "\\item 'cssFile'\n",
       "\\item 'd'\n",
       "\\item 'data'\n",
       "\\item 'm'\n",
       "\\item 'my\\_cute\\_variable'\n",
       "\\item 'x'\n",
       "\\item 'y'\n",
       "\\end{enumerate*}\n"
      ],
      "text/markdown": [
       "1. 'a'\n",
       "2. 'b'\n",
       "3. 'bouyURL'\n",
       "4. 'cssFile'\n",
       "5. 'd'\n",
       "6. 'data'\n",
       "7. 'm'\n",
       "8. 'my_cute_variable'\n",
       "9. 'x'\n",
       "10. 'y'\n",
       "\n",
       "\n"
      ],
      "text/plain": [
       " [1] \"a\"                \"b\"                \"bouyURL\"          \"cssFile\"         \n",
       " [5] \"d\"                \"data\"             \"m\"                \"my_cute_variable\"\n",
       " [9] \"x\"                \"y\"               "
      ]
     },
     "metadata": {},
     "output_type": "display_data"
    }
   ],
   "source": [
    "a <- 4 # Make variable \"a\"\n",
    "ls() # Check which variables exist in memory"
   ]
  },
  {
   "cell_type": "code",
   "execution_count": 491,
   "metadata": {},
   "outputs": [
    {
     "data": {
      "text/html": [
       "<ol class=list-inline>\n",
       "\t<li>'b'</li>\n",
       "\t<li>'bouyURL'</li>\n",
       "\t<li>'cssFile'</li>\n",
       "\t<li>'d'</li>\n",
       "\t<li>'data'</li>\n",
       "\t<li>'m'</li>\n",
       "\t<li>'my_cute_variable'</li>\n",
       "\t<li>'x'</li>\n",
       "\t<li>'y'</li>\n",
       "</ol>\n"
      ],
      "text/latex": [
       "\\begin{enumerate*}\n",
       "\\item 'b'\n",
       "\\item 'bouyURL'\n",
       "\\item 'cssFile'\n",
       "\\item 'd'\n",
       "\\item 'data'\n",
       "\\item 'm'\n",
       "\\item 'my\\_cute\\_variable'\n",
       "\\item 'x'\n",
       "\\item 'y'\n",
       "\\end{enumerate*}\n"
      ],
      "text/markdown": [
       "1. 'b'\n",
       "2. 'bouyURL'\n",
       "3. 'cssFile'\n",
       "4. 'd'\n",
       "5. 'data'\n",
       "6. 'm'\n",
       "7. 'my_cute_variable'\n",
       "8. 'x'\n",
       "9. 'y'\n",
       "\n",
       "\n"
      ],
      "text/plain": [
       "[1] \"b\"                \"bouyURL\"          \"cssFile\"          \"d\"               \n",
       "[5] \"data\"             \"m\"                \"my_cute_variable\" \"x\"               \n",
       "[9] \"y\"               "
      ]
     },
     "metadata": {},
     "output_type": "display_data"
    }
   ],
   "source": [
    "rm(a) # Remove variable \"a\"\n",
    "ls() # Check again which variables exist in memory"
   ]
  },
  {
   "cell_type": "markdown",
   "metadata": {},
   "source": [
    "<div class=\"T\"></div>\n",
    "\n",
    "* Create a variable in RStudio... make the Variable **Name** `X` and the Variable **Value** `1000`.\n",
    "* Check the that your new variable in displayed in the **Environment Panel**\n",
    "* Use the `ls()` function to double-check that your new variable `X` is indeed present in **memory**\n",
    "* Use the `rm()` command to remove `X`\n",
    "* Verify that `X` is no longer in the **Environment Panel**\n",
    "* Use the `ls()` function to double-check that the variable `X` is indeed not present in **memory**"
   ]
  },
  {
   "cell_type": "markdown",
   "metadata": {},
   "source": [
    "### Deleting ALL variables\n",
    "\n",
    "* To remove one variable, use `rm(list = ls())`"
   ]
  },
  {
   "cell_type": "code",
   "execution_count": 492,
   "metadata": {},
   "outputs": [
    {
     "data": {
      "text/html": [
       "<ol class=list-inline>\n",
       "\t<li>'b'</li>\n",
       "\t<li>'bouyURL'</li>\n",
       "\t<li>'cssFile'</li>\n",
       "\t<li>'d'</li>\n",
       "\t<li>'data'</li>\n",
       "\t<li>'m'</li>\n",
       "\t<li>'my_cute_variable'</li>\n",
       "\t<li>'x'</li>\n",
       "\t<li>'y'</li>\n",
       "</ol>\n"
      ],
      "text/latex": [
       "\\begin{enumerate*}\n",
       "\\item 'b'\n",
       "\\item 'bouyURL'\n",
       "\\item 'cssFile'\n",
       "\\item 'd'\n",
       "\\item 'data'\n",
       "\\item 'm'\n",
       "\\item 'my\\_cute\\_variable'\n",
       "\\item 'x'\n",
       "\\item 'y'\n",
       "\\end{enumerate*}\n"
      ],
      "text/markdown": [
       "1. 'b'\n",
       "2. 'bouyURL'\n",
       "3. 'cssFile'\n",
       "4. 'd'\n",
       "5. 'data'\n",
       "6. 'm'\n",
       "7. 'my_cute_variable'\n",
       "8. 'x'\n",
       "9. 'y'\n",
       "\n",
       "\n"
      ],
      "text/plain": [
       "[1] \"b\"                \"bouyURL\"          \"cssFile\"          \"d\"               \n",
       "[5] \"data\"             \"m\"                \"my_cute_variable\" \"x\"               \n",
       "[9] \"y\"               "
      ]
     },
     "metadata": {},
     "output_type": "display_data"
    }
   ],
   "source": [
    "ls() # Check which variables exist in memory"
   ]
  },
  {
   "cell_type": "code",
   "execution_count": 493,
   "metadata": {},
   "outputs": [
    {
     "data": {
      "text/html": [],
      "text/latex": [],
      "text/markdown": [],
      "text/plain": [
       "character(0)"
      ]
     },
     "metadata": {},
     "output_type": "display_data"
    }
   ],
   "source": [
    "rm(list = ls()) # Remove ALL variables\n",
    "\n",
    "ls() # Check again which variables exist in memory"
   ]
  },
  {
   "cell_type": "markdown",
   "metadata": {},
   "source": [
    "<div class=\"Q\"><br><br>\n",
    "\n",
    "    \n",
    "In R, what function is used to delete <b>one</b> variable?\n",
    "    \n",
    "    \n",
    "<br><br><div class=\"qhelp\"></div></div>\n"
   ]
  },
  {
   "cell_type": "markdown",
   "metadata": {},
   "source": [
    "<div class=\"Q\"><br><br>\n",
    "\n",
    "    \n",
    "In R, what statement is used to delete <b>ALL</b> variables in your environment?\n",
    "    \n",
    "    \n",
    "<br><br><div class=\"qhelp\"></div></div>\n"
   ]
  },
  {
   "cell_type": "markdown",
   "metadata": {},
   "source": [
    "\n",
    "\n",
    "-------------------------------\n",
    "\n",
    "#  Basic data types\n",
    "\n",
    "I mentioned earlier that R is an object-oriented language, where everything is an object. The \"basic data types\" are the simplest and most basic kinds of objects. All your data must be represented with one of these data types. Each data type behaves under different rules, thus it is important to always be aware of what data type each statement is working with. Below are some of the most common data types used in R:\n",
    "\n",
    "* **double** or **numeric**: `2`, `15.5` (these are numbers allowed to have decimals)\n",
    "* **integer**: `2L` (these are \"round\" numbers; the L tells R to store this as an integer)\n",
    "* **character**: `\"a\"`, `\"2\"`, `\"hello\"` (these are letters)\n",
    "* **logical**: `TRUE` or `FALSE`\n",
    "\n",
    "You can use the `typeof()` function to query any variable to see what data type are they made of. \n",
    "\n",
    "Lets dive a bit deeper into each different basic data type."
   ]
  },
  {
   "cell_type": "markdown",
   "metadata": {},
   "source": [
    "## Double (or numeric) \n",
    "**Double (or numeric)** objects are numbers that are allowed to have a decimal point. "
   ]
  },
  {
   "cell_type": "code",
   "execution_count": 494,
   "metadata": {},
   "outputs": [
    {
     "data": {
      "text/html": [
       "'double'"
      ],
      "text/latex": [
       "'double'"
      ],
      "text/markdown": [
       "'double'"
      ],
      "text/plain": [
       "[1] \"double\""
      ]
     },
     "metadata": {},
     "output_type": "display_data"
    }
   ],
   "source": [
    "x <- 4.67\n",
    "\n",
    "typeof(x)"
   ]
  },
  {
   "cell_type": "markdown",
   "metadata": {},
   "source": [
    "## Integers\n",
    "\n",
    "**Integers** are \"round\" numbers (i.e. no decimal point). Note that you have to add an `L` at  the end to specify the number is an integer. If you do not ad an L, R will think it is a **double** with .0 as a decimal."
   ]
  },
  {
   "cell_type": "code",
   "execution_count": 495,
   "metadata": {},
   "outputs": [
    {
     "data": {
      "text/html": [
       "'integer'"
      ],
      "text/latex": [
       "'integer'"
      ],
      "text/markdown": [
       "'integer'"
      ],
      "text/plain": [
       "[1] \"integer\""
      ]
     },
     "metadata": {},
     "output_type": "display_data"
    }
   ],
   "source": [
    "y <- 4L\n",
    "\n",
    "typeof(y)"
   ]
  },
  {
   "cell_type": "markdown",
   "metadata": {},
   "source": [
    "## Character\n",
    "**Characters** are letters. Note that you need to wrap the content of the string within quotes to tell R they are a character "
   ]
  },
  {
   "cell_type": "code",
   "execution_count": 496,
   "metadata": {},
   "outputs": [
    {
     "data": {
      "text/html": [
       "'character'"
      ],
      "text/latex": [
       "'character'"
      ],
      "text/markdown": [
       "'character'"
      ],
      "text/plain": [
       "[1] \"character\""
      ]
     },
     "metadata": {},
     "output_type": "display_data"
    },
    {
     "data": {
      "text/html": [
       "'character'"
      ],
      "text/latex": [
       "'character'"
      ],
      "text/markdown": [
       "'character'"
      ],
      "text/plain": [
       "[1] \"character\""
      ]
     },
     "metadata": {},
     "output_type": "display_data"
    }
   ],
   "source": [
    "a <- \"hello\" # Example 1\n",
    "b <- \"2.3\"   # Example 2\n",
    "\n",
    "typeof(a)\n",
    "typeof(b)"
   ]
  },
  {
   "cell_type": "markdown",
   "metadata": {},
   "source": [
    "Note that even though `2.3` is a number, because we declared it with quotes (i.e. `\"2.3\"`), it will be treated by R as \"letters\". Therefore, you won't be able to do math with \"2.3\"."
   ]
  },
  {
   "cell_type": "markdown",
   "metadata": {},
   "source": [
    "## Logical\n",
    "\n",
    "Logicals can only have one of two values `TRUE` or `FALSE`. They are used to represent \"true or false\" statements."
   ]
  },
  {
   "cell_type": "code",
   "execution_count": 497,
   "metadata": {},
   "outputs": [
    {
     "data": {
      "text/html": [
       "'logical'"
      ],
      "text/latex": [
       "'logical'"
      ],
      "text/markdown": [
       "'logical'"
      ],
      "text/plain": [
       "[1] \"logical\""
      ]
     },
     "metadata": {},
     "output_type": "display_data"
    }
   ],
   "source": [
    "x <- FALSE\n",
    "\n",
    "typeof(x)"
   ]
  },
  {
   "cell_type": "markdown",
   "metadata": {},
   "source": [
    "<div class=\"Q\"><br><br>\n",
    "\n",
    "What data type is the following: <br><br>\n",
    "324.91\n",
    "\n",
    "<br><br><div class=\"qhelp\"></div></div>\n"
   ]
  },
  {
   "cell_type": "markdown",
   "metadata": {},
   "source": [
    "<div class=\"Q\"><br><br>\n",
    "\n",
    "What data type is the following: <br><br>\n",
    "\n",
    "<span class=\"codeX\">\"the house is green\"</span><br>\n",
    "\n",
    "<br><br><div class=\"qhelp\"></div></div>"
   ]
  },
  {
   "cell_type": "markdown",
   "metadata": {},
   "source": [
    "<div class=\"Q\"><br><br>\n",
    "\n",
    "What data type is the following: <br><br>\n",
    "    \n",
    "<span class=\"codeX\">87572</span><br>\n",
    "\n",
    "\n",
    "<br><br><div class=\"qhelp\"></div></div>"
   ]
  },
  {
   "cell_type": "markdown",
   "metadata": {},
   "source": [
    "<div class=\"Q\"><br><br>\n",
    "\n",
    "If you execute the following line in Python... <br><br>\n",
    "    \n",
    "<span class=\"codeX\">a = 32</span><br><br>\n",
    "\n",
    "Then, what is \"<b>32</b>\"?\n",
    "\n",
    "<br><br><div class=\"qhelp\"></div></div>"
   ]
  },
  {
   "cell_type": "markdown",
   "metadata": {},
   "source": [
    "<div class=\"Q\"><br><br>\n",
    "\n",
    "If you execute the following line in Python... <br><br>\n",
    "    \n",
    "<span class=\"codeX\">a = 32</span><br><br>\n",
    "\n",
    "Then, what is \"<b>a</b>\"?\n",
    "\n",
    "<br><br><div class=\"qhelp\"></div></div>"
   ]
  },
  {
   "cell_type": "markdown",
   "metadata": {},
   "source": [
    "----------------------------\n",
    "\n",
    "# R Operators\n",
    "\n",
    "Now that you know how to do `numeric`, `integer`, `character` and `logical` elements, you can do arithmetic, relational and logical operations. Below is a \"cheat-sheet\" of all the operators in R:\n",
    "\n",
    "Operator | Description\n",
    ":--- | :---\n",
    "  | **## Arithmetic Operators ##**\n",
    "+ | Addition\n",
    "- | Subtraction\n",
    "* | Multiplication\n",
    "/ | Division\n",
    "^ | Exponent\n",
    "%% | Modulus (Remainder from division)\n",
    "%/% | Integer Division\n",
    "  | **## Relational Operators ##** \n",
    "< |\tLess than\n",
    "> |\tGreater than\n",
    "<= |\tLess than or equal to\n",
    ">= |\tGreater than or equal to\n",
    "== |\tEqual to\n",
    "!= |\tNot equal to\n",
    "  | **## Logical Operators ##**\n",
    "!\t| Logical NOT\n",
    "&\t| Element-wise logical AND\n",
    "&&\t| Logical AND\n",
    "&#124;| Element-wise logical OR\n",
    "&#124;&#124;\t| Logical OR\n",
    "  | **## Assignment Operators ##**\n",
    "<-, <<-, =\t| Leftwards assignment\n",
    "->, ->>\t| Rightwards assignment  \n",
    "\n",
    "We won't dive in all of the operators at this point, but here are few examples:"
   ]
  },
  {
   "cell_type": "code",
   "execution_count": 498,
   "metadata": {},
   "outputs": [
    {
     "data": {
      "text/html": [
       "14"
      ],
      "text/latex": [
       "14"
      ],
      "text/markdown": [
       "14"
      ],
      "text/plain": [
       "[1] 14"
      ]
     },
     "metadata": {},
     "output_type": "display_data"
    }
   ],
   "source": [
    "7 * 2"
   ]
  },
  {
   "cell_type": "code",
   "execution_count": 499,
   "metadata": {},
   "outputs": [
    {
     "data": {
      "text/html": [
       "5"
      ],
      "text/latex": [
       "5"
      ],
      "text/markdown": [
       "5"
      ],
      "text/plain": [
       "[1] 5"
      ]
     },
     "metadata": {},
     "output_type": "display_data"
    }
   ],
   "source": [
    "x <- 8 - 3\n",
    "\n",
    "x"
   ]
  },
  {
   "cell_type": "code",
   "execution_count": 500,
   "metadata": {},
   "outputs": [
    {
     "data": {
      "text/html": [
       "8"
      ],
      "text/latex": [
       "8"
      ],
      "text/markdown": [
       "8"
      ],
      "text/plain": [
       "[1] 8"
      ]
     },
     "metadata": {},
     "output_type": "display_data"
    }
   ],
   "source": [
    "2^3"
   ]
  },
  {
   "cell_type": "code",
   "execution_count": 501,
   "metadata": {},
   "outputs": [
    {
     "data": {
      "text/html": [
       "TRUE"
      ],
      "text/latex": [
       "TRUE"
      ],
      "text/markdown": [
       "TRUE"
      ],
      "text/plain": [
       "[1] TRUE"
      ]
     },
     "metadata": {},
     "output_type": "display_data"
    }
   ],
   "source": [
    "7 > 2"
   ]
  },
  {
   "cell_type": "code",
   "execution_count": 502,
   "metadata": {},
   "outputs": [
    {
     "data": {
      "text/html": [
       "FALSE"
      ],
      "text/latex": [
       "FALSE"
      ],
      "text/markdown": [
       "FALSE"
      ],
      "text/plain": [
       "[1] FALSE"
      ]
     },
     "metadata": {},
     "output_type": "display_data"
    }
   ],
   "source": [
    "9 >= 18"
   ]
  },
  {
   "cell_type": "markdown",
   "metadata": {},
   "source": [
    "# Data Structures (i.e. \"Container\" objects)\n",
    "\n",
    "<img src=\"./sugar_jar.png\" width=\"400px\">\n",
    "\n",
    "We mentioned that everything in R is an object, and that the \"Basic Data Types\" are the simplest type of objects. **\"Data Structures\"** are also objects, however a bit more complicated. **\"Data Structures\"** are designed to contain groups of other objects... thus, I like to call them **\"Container\"** objects.\n",
    "\n",
    "In the photo above (i.e. jar of sugar cubes), the \"Variable **Name**\" is what you wrote on the sticker (in this case, \"Sugar\"), the \"Variable **Value**\" is whatever you glued your sticker to (in this case, a jar with 28 one-gram sugar cubes). The jar is a **\"Container\"** object and each of the sugar cubes is a different object, each with its own \"Basic Data Type\" and value.\n",
    "\n",
    "The main **\"Data Structures\"** that we will discuss here are:\n",
    "\n",
    "* Vector\n",
    "* Matrix\n",
    "* List\n",
    "* Data Frame\n",
    "* Factors\n",
    "\n",
    "You can use the function `class()` to query the type of \"Data Structure\" of a variable, for example:\n",
    "\n",
    "* `class(x)` will return `matrix`, if `x` is a **Matrix** Data Structure\n",
    "* `class(x)` will return `list`, if `x` is a **List** Data Structure\n",
    "* `class(x)` will return `data.frame`, if `x` is a **Data Frame** Data Structure\n",
    "* `class(x)` will return `factor`, if `x` is a **Factor** Data Structure\n",
    "* **Vectors** are the odd one here. `class(x)` will return the **Basic Data Type** of the elements within `x`, if `x` is a **Vector** Data Structure (see examples below)."
   ]
  },
  {
   "cell_type": "markdown",
   "metadata": {},
   "source": [
    "## Vector\n",
    "\n",
    "A vector is a collection of elements of **the same \"Basic Data Type\"** (i.e. `numeric`, `integer`, `character`, or `logical`). You can think of a \"vector\" as **one single column** in a spread-sheet. Technically, vectors can be either (1) **atomic vectors** (i.e. all elements of the same \"Basic Data Type\"), or (2) **lists** (i.e. elements can be of different types). However, the term “vector” most commonly refers to the \"atomic vectors\" and \"list vectors\" are referred simply as \"lists\", which we will discuss in a section below.\n",
    "\n",
    "Vectors are particularly well suited to do matrix algebra.\n",
    "\n",
    "To make a vector, use the \"concatenate\" function, `c`. Note: concatenate = to link objects together in a chain or series."
   ]
  },
  {
   "cell_type": "code",
   "execution_count": 503,
   "metadata": {},
   "outputs": [
    {
     "data": {
      "text/html": [
       "<ol class=list-inline>\n",
       "\t<li>5</li>\n",
       "\t<li>2</li>\n",
       "\t<li>7</li>\n",
       "\t<li>4</li>\n",
       "</ol>\n"
      ],
      "text/latex": [
       "\\begin{enumerate*}\n",
       "\\item 5\n",
       "\\item 2\n",
       "\\item 7\n",
       "\\item 4\n",
       "\\end{enumerate*}\n"
      ],
      "text/markdown": [
       "1. 5\n",
       "2. 2\n",
       "3. 7\n",
       "4. 4\n",
       "\n",
       "\n"
      ],
      "text/plain": [
       "[1] 5 2 7 4"
      ]
     },
     "metadata": {},
     "output_type": "display_data"
    },
    {
     "data": {
      "text/html": [
       "'numeric'"
      ],
      "text/latex": [
       "'numeric'"
      ],
      "text/markdown": [
       "'numeric'"
      ],
      "text/plain": [
       "[1] \"numeric\""
      ]
     },
     "metadata": {},
     "output_type": "display_data"
    }
   ],
   "source": [
    "x <- c(5, 2, 7, 4)\n",
    "\n",
    "x\n",
    "\n",
    "class(x)"
   ]
  },
  {
   "cell_type": "markdown",
   "metadata": {},
   "source": [
    "Note that `class(x)` returned `'numeric'` because ALL the elements within `x` are of **Numeric** Basic Data Type."
   ]
  },
  {
   "cell_type": "code",
   "execution_count": 504,
   "metadata": {},
   "outputs": [
    {
     "data": {
      "text/html": [
       "<ol class=list-inline>\n",
       "\t<li>'a'</li>\n",
       "\t<li>'b'</li>\n",
       "\t<li>'c'</li>\n",
       "\t<li>'d'</li>\n",
       "</ol>\n"
      ],
      "text/latex": [
       "\\begin{enumerate*}\n",
       "\\item 'a'\n",
       "\\item 'b'\n",
       "\\item 'c'\n",
       "\\item 'd'\n",
       "\\end{enumerate*}\n"
      ],
      "text/markdown": [
       "1. 'a'\n",
       "2. 'b'\n",
       "3. 'c'\n",
       "4. 'd'\n",
       "\n",
       "\n"
      ],
      "text/plain": [
       "[1] \"a\" \"b\" \"c\" \"d\""
      ]
     },
     "metadata": {},
     "output_type": "display_data"
    },
    {
     "data": {
      "text/html": [
       "'character'"
      ],
      "text/latex": [
       "'character'"
      ],
      "text/markdown": [
       "'character'"
      ],
      "text/plain": [
       "[1] \"character\""
      ]
     },
     "metadata": {},
     "output_type": "display_data"
    }
   ],
   "source": [
    "x <- c(\"a\", \"b\", \"c\", \"d\")\n",
    "\n",
    "x\n",
    "\n",
    "class(x)"
   ]
  },
  {
   "cell_type": "markdown",
   "metadata": {},
   "source": [
    "Note that `class(x)` returned `'character'` because ALL the elements within `x` are of **Character** Basic Data Type.\n",
    "\n",
    "----------------\n",
    "\n",
    "In the example below, lets insert a 'numeric' element among a bunch of 'character' elements to see what happens:"
   ]
  },
  {
   "cell_type": "code",
   "execution_count": 505,
   "metadata": {},
   "outputs": [
    {
     "data": {
      "text/html": [
       "<ol class=list-inline>\n",
       "\t<li>'a'</li>\n",
       "\t<li>'b'</li>\n",
       "\t<li>'7'</li>\n",
       "\t<li>'d'</li>\n",
       "</ol>\n"
      ],
      "text/latex": [
       "\\begin{enumerate*}\n",
       "\\item 'a'\n",
       "\\item 'b'\n",
       "\\item '7'\n",
       "\\item 'd'\n",
       "\\end{enumerate*}\n"
      ],
      "text/markdown": [
       "1. 'a'\n",
       "2. 'b'\n",
       "3. '7'\n",
       "4. 'd'\n",
       "\n",
       "\n"
      ],
      "text/plain": [
       "[1] \"a\" \"b\" \"7\" \"d\""
      ]
     },
     "metadata": {},
     "output_type": "display_data"
    },
    {
     "data": {
      "text/html": [
       "'character'"
      ],
      "text/latex": [
       "'character'"
      ],
      "text/markdown": [
       "'character'"
      ],
      "text/plain": [
       "[1] \"character\""
      ]
     },
     "metadata": {},
     "output_type": "display_data"
    }
   ],
   "source": [
    "x <- c(\"a\", \"b\", 7, \"d\")\n",
    "\n",
    "x\n",
    "\n",
    "class(x)"
   ]
  },
  {
   "cell_type": "markdown",
   "metadata": {},
   "source": [
    "Note that R changed the \"number\" `7` for a \"character\" `'7'`. Thus `class(x)` returned `'character'` because ALL the elements within `x` are of **Character** Basic Data Type"
   ]
  },
  {
   "cell_type": "markdown",
   "metadata": {},
   "source": [
    "## Matrix\n",
    "\n",
    "**Matrices** are an extension of vectors. They are simply a vector with dimensions of \"number of rows\" by \"number of columns\". As with vectors, the elements of a matrix must be of the same Data Type.\n",
    "\n",
    "Just like vectors, matrices are particularly well suited to do matrix algebra.\n",
    "\n",
    "To make a **Matrix**, use the function `matrix()`"
   ]
  },
  {
   "cell_type": "code",
   "execution_count": 506,
   "metadata": {},
   "outputs": [
    {
     "data": {
      "text/html": [
       "<table>\n",
       "<tbody>\n",
       "\t<tr><td>1 </td><td>5 </td><td> 9</td></tr>\n",
       "\t<tr><td>2 </td><td>6 </td><td>10</td></tr>\n",
       "\t<tr><td>3 </td><td>7 </td><td>11</td></tr>\n",
       "\t<tr><td>4 </td><td>8 </td><td>12</td></tr>\n",
       "</tbody>\n",
       "</table>\n"
      ],
      "text/latex": [
       "\\begin{tabular}{lll}\n",
       "\t 1  & 5  &  9\\\\\n",
       "\t 2  & 6  & 10\\\\\n",
       "\t 3  & 7  & 11\\\\\n",
       "\t 4  & 8  & 12\\\\\n",
       "\\end{tabular}\n"
      ],
      "text/markdown": [
       "\n",
       "| 1  | 5  |  9 |\n",
       "| 2  | 6  | 10 |\n",
       "| 3  | 7  | 11 |\n",
       "| 4  | 8  | 12 |\n",
       "\n"
      ],
      "text/plain": [
       "     [,1] [,2] [,3]\n",
       "[1,] 1    5     9  \n",
       "[2,] 2    6    10  \n",
       "[3,] 3    7    11  \n",
       "[4,] 4    8    12  "
      ]
     },
     "metadata": {},
     "output_type": "display_data"
    },
    {
     "data": {
      "text/html": [
       "'matrix'"
      ],
      "text/latex": [
       "'matrix'"
      ],
      "text/markdown": [
       "'matrix'"
      ],
      "text/plain": [
       "[1] \"matrix\""
      ]
     },
     "metadata": {},
     "output_type": "display_data"
    }
   ],
   "source": [
    "x <- matrix(c(1, 2, 3, 4, 5, 6, 7, 8, 9, 10, 11, 12), nrow=4, ncol=3)\n",
    "\n",
    "x\n",
    "\n",
    "class(x)"
   ]
  },
  {
   "cell_type": "markdown",
   "metadata": {},
   "source": [
    "## List\n",
    "\n",
    "**Lists** are like a vector, but **without the restriction** of having their contents of a single Data Type. You can mix `numeric`, `integer`, `character`, and `logical` elements within a single **List**. Lists are sometimes called \"generic vectors\", because the elements of a list can be of any type of R object, even lists containing further lists. This property makes them fundamentally different from the atomic vectors that we discussed above.\n",
    "\n",
    "A list is a special type of vector. Each element can be a different type.\n",
    "\n",
    "To make a list, use the function `list()`"
   ]
  },
  {
   "cell_type": "code",
   "execution_count": 507,
   "metadata": {},
   "outputs": [
    {
     "data": {
      "text/html": [
       "<ol>\n",
       "\t<li>1</li>\n",
       "\t<li>'a'</li>\n",
       "\t<li>4</li>\n",
       "\t<li>6.87</li>\n",
       "\t<li>TRUE</li>\n",
       "\t<li>'hello'</li>\n",
       "</ol>\n"
      ],
      "text/latex": [
       "\\begin{enumerate}\n",
       "\\item 1\n",
       "\\item 'a'\n",
       "\\item 4\n",
       "\\item 6.87\n",
       "\\item TRUE\n",
       "\\item 'hello'\n",
       "\\end{enumerate}\n"
      ],
      "text/markdown": [
       "1. 1\n",
       "2. 'a'\n",
       "3. 4\n",
       "4. 6.87\n",
       "5. TRUE\n",
       "6. 'hello'\n",
       "\n",
       "\n"
      ],
      "text/plain": [
       "[[1]]\n",
       "[1] 1\n",
       "\n",
       "[[2]]\n",
       "[1] \"a\"\n",
       "\n",
       "[[3]]\n",
       "[1] 4\n",
       "\n",
       "[[4]]\n",
       "[1] 6.87\n",
       "\n",
       "[[5]]\n",
       "[1] TRUE\n",
       "\n",
       "[[6]]\n",
       "[1] \"hello\"\n"
      ]
     },
     "metadata": {},
     "output_type": "display_data"
    },
    {
     "data": {
      "text/html": [
       "'list'"
      ],
      "text/latex": [
       "'list'"
      ],
      "text/markdown": [
       "'list'"
      ],
      "text/plain": [
       "[1] \"list\""
      ]
     },
     "metadata": {},
     "output_type": "display_data"
    }
   ],
   "source": [
    "x <- list(1L, \"a\", 4, 6.87, TRUE, \"hello\")\n",
    "\n",
    "x\n",
    "\n",
    "class(x)"
   ]
  },
  {
   "cell_type": "markdown",
   "metadata": {},
   "source": [
    "Below is an example of a list that contains another list. We'll insert the list created in the code above as the 3rd element of the list below, `y`:"
   ]
  },
  {
   "cell_type": "code",
   "execution_count": 508,
   "metadata": {},
   "outputs": [
    {
     "data": {
      "text/html": [
       "<ol>\n",
       "\t<li>4</li>\n",
       "\t<li>'world'</li>\n",
       "\t<li><ol>\n",
       "\t<li>1</li>\n",
       "\t<li>'a'</li>\n",
       "\t<li>4</li>\n",
       "\t<li>6.87</li>\n",
       "\t<li>TRUE</li>\n",
       "\t<li>'hello'</li>\n",
       "</ol>\n",
       "</li>\n",
       "\t<li>3.67</li>\n",
       "</ol>\n"
      ],
      "text/latex": [
       "\\begin{enumerate}\n",
       "\\item 4\n",
       "\\item 'world'\n",
       "\\item \\begin{enumerate}\n",
       "\\item 1\n",
       "\\item 'a'\n",
       "\\item 4\n",
       "\\item 6.87\n",
       "\\item TRUE\n",
       "\\item 'hello'\n",
       "\\end{enumerate}\n",
       "\n",
       "\\item 3.67\n",
       "\\end{enumerate}\n"
      ],
      "text/markdown": [
       "1. 4\n",
       "2. 'world'\n",
       "3. 1. 1\n",
       "2. 'a'\n",
       "3. 4\n",
       "4. 6.87\n",
       "5. TRUE\n",
       "6. 'hello'\n",
       "\n",
       "\n",
       "\n",
       "4. 3.67\n",
       "\n",
       "\n"
      ],
      "text/plain": [
       "[[1]]\n",
       "[1] 4\n",
       "\n",
       "[[2]]\n",
       "[1] \"world\"\n",
       "\n",
       "[[3]]\n",
       "[[3]][[1]]\n",
       "[1] 1\n",
       "\n",
       "[[3]][[2]]\n",
       "[1] \"a\"\n",
       "\n",
       "[[3]][[3]]\n",
       "[1] 4\n",
       "\n",
       "[[3]][[4]]\n",
       "[1] 6.87\n",
       "\n",
       "[[3]][[5]]\n",
       "[1] TRUE\n",
       "\n",
       "[[3]][[6]]\n",
       "[1] \"hello\"\n",
       "\n",
       "\n",
       "[[4]]\n",
       "[1] 3.67\n"
      ]
     },
     "metadata": {},
     "output_type": "display_data"
    },
    {
     "data": {
      "text/html": [
       "'list'"
      ],
      "text/latex": [
       "'list'"
      ],
      "text/markdown": [
       "'list'"
      ],
      "text/plain": [
       "[1] \"list\""
      ]
     },
     "metadata": {},
     "output_type": "display_data"
    }
   ],
   "source": [
    "# Example of lists within a list\n",
    "y <- list(4, \"world\", x, 3.67)\n",
    "\n",
    "y\n",
    "\n",
    "class(y)"
   ]
  },
  {
   "cell_type": "markdown",
   "metadata": {},
   "source": [
    "## Data Frame\n",
    "\n",
    "**Data frames** are a very important data type in R. It’s pretty much the *de facto* data structure for most tabular data and what we use in biology field and plotting in general. **Data frames** can be created by hand, but most commonly they are generated when importing spreadsheets from your hard-drive or the web.\n",
    "\n",
    "Remember that a \"matrix\" is a special type of \"vector\" with multiple rows and columns? Well, similarly, a **Data Frame** is a special type of **list** with multiple rows and column, where every element of the list has same length (i.e. data frame is a “rectangular” list). Same as lists, the elements of a **Data frames** can be of any type of R object (i.e. `numeric`, `integer`, `character`, `logical`, lists and other Data Frames). \n",
    "\n",
    "To make a list, use the `data.frame()` function:"
   ]
  },
  {
   "cell_type": "code",
   "execution_count": 509,
   "metadata": {},
   "outputs": [
    {
     "data": {
      "text/html": [
       "<table>\n",
       "<thead><tr><th scope=col>id</th><th scope=col>x</th><th scope=col>y</th></tr></thead>\n",
       "<tbody>\n",
       "\t<tr><td> 1</td><td>11</td><td>21</td></tr>\n",
       "\t<tr><td> 2</td><td>12</td><td>22</td></tr>\n",
       "\t<tr><td> 3</td><td>13</td><td>23</td></tr>\n",
       "\t<tr><td> 4</td><td>14</td><td>24</td></tr>\n",
       "\t<tr><td> 5</td><td>15</td><td>25</td></tr>\n",
       "\t<tr><td> 6</td><td>16</td><td>26</td></tr>\n",
       "\t<tr><td> 7</td><td>17</td><td>27</td></tr>\n",
       "\t<tr><td> 8</td><td>18</td><td>28</td></tr>\n",
       "\t<tr><td> 9</td><td>19</td><td>29</td></tr>\n",
       "\t<tr><td>10</td><td>20</td><td>30</td></tr>\n",
       "</tbody>\n",
       "</table>\n"
      ],
      "text/latex": [
       "\\begin{tabular}{r|lll}\n",
       " id & x & y\\\\\n",
       "\\hline\n",
       "\t  1 & 11 & 21\\\\\n",
       "\t  2 & 12 & 22\\\\\n",
       "\t  3 & 13 & 23\\\\\n",
       "\t  4 & 14 & 24\\\\\n",
       "\t  5 & 15 & 25\\\\\n",
       "\t  6 & 16 & 26\\\\\n",
       "\t  7 & 17 & 27\\\\\n",
       "\t  8 & 18 & 28\\\\\n",
       "\t  9 & 19 & 29\\\\\n",
       "\t 10 & 20 & 30\\\\\n",
       "\\end{tabular}\n"
      ],
      "text/markdown": [
       "\n",
       "| id | x | y |\n",
       "|---|---|---|\n",
       "|  1 | 11 | 21 |\n",
       "|  2 | 12 | 22 |\n",
       "|  3 | 13 | 23 |\n",
       "|  4 | 14 | 24 |\n",
       "|  5 | 15 | 25 |\n",
       "|  6 | 16 | 26 |\n",
       "|  7 | 17 | 27 |\n",
       "|  8 | 18 | 28 |\n",
       "|  9 | 19 | 29 |\n",
       "| 10 | 20 | 30 |\n",
       "\n"
      ],
      "text/plain": [
       "   id x  y \n",
       "1   1 11 21\n",
       "2   2 12 22\n",
       "3   3 13 23\n",
       "4   4 14 24\n",
       "5   5 15 25\n",
       "6   6 16 26\n",
       "7   7 17 27\n",
       "8   8 18 28\n",
       "9   9 19 29\n",
       "10 10 20 30"
      ]
     },
     "metadata": {},
     "output_type": "display_data"
    },
    {
     "data": {
      "text/html": [
       "'data.frame'"
      ],
      "text/latex": [
       "'data.frame'"
      ],
      "text/markdown": [
       "'data.frame'"
      ],
      "text/plain": [
       "[1] \"data.frame\""
      ]
     },
     "metadata": {},
     "output_type": "display_data"
    }
   ],
   "source": [
    "x <- data.frame(id = 1:10, x = 11:20, y = 21:30)\n",
    "\n",
    "x\n",
    "\n",
    "class(x)"
   ]
  },
  {
   "cell_type": "markdown",
   "metadata": {},
   "source": [
    "<div class=\"Q\"><br><br>\n",
    "\n",
    "    \n",
    "Consider the statement below:<br><br>\n",
    "    \n",
    "    \n",
    "<span class=\"codeX\">x <- data.frame(x = 1:20, y = 21:40)</span><br><br>\n",
    "    \n",
    "\n",
    "What is class, or Data Structure is <b>x</b>?<br><br>\n",
    "         \n",
    "<br><div class=\"qhelp\"></div></div>\n"
   ]
  },
  {
   "cell_type": "markdown",
   "metadata": {},
   "source": [
    "<div class=\"Q\"><br><br>\n",
    "\n",
    "    \n",
    "Consider the statement below:<br><br>\n",
    "    \n",
    "<span class=\"codeX\">x <- matrix(c(1, 2, 3, 4), nrow=2, ncol=2)</span><br><br>\n",
    "    \n",
    "What is class, or Data Structure is <b>x</b>?<br><br>\n",
    "         \n",
    "<br><div class=\"qhelp\"></div></div>\n"
   ]
  },
  {
   "cell_type": "markdown",
   "metadata": {},
   "source": [
    "<div class=\"Q\"><br><br>\n",
    "\n",
    "    \n",
    "Consider the statement below:<br><br>\n",
    "    \n",
    "<span class=\"codeX\">x <- list(1, 2, 3, 4)</span><br><br>\n",
    "    \n",
    "What is class, or Data Structure is <b>x</b>?<br><br>\n",
    "         \n",
    "<br><div class=\"qhelp\"></div></div>\n"
   ]
  },
  {
   "cell_type": "markdown",
   "metadata": {},
   "source": [
    "<div class=\"Q\"><br><br>\n",
    "\n",
    "    \n",
    "Consider the statement below:<br><br>\n",
    "    \n",
    "<span class=\"codeX\">x <- c(1, 2, 3, 4)</span><br><br>\n",
    "    \n",
    "<br>\n",
    "What is class, or Data Structure is <b>x</b>?<br><br>\n",
    "         \n",
    "<br><div class=\"qhelp\"></div></div>\n"
   ]
  },
  {
   "cell_type": "markdown",
   "metadata": {},
   "source": [
    "<div class=\"Q\"><br><br>\n",
    "\n",
    "    \n",
    "Which of the Data Structures below <b>MUST</b> have all of their elements be of the same Data Type?<br><br>\n",
    "         \n",
    "<br><div class=\"qhelp\"></div></div>\n"
   ]
  },
  {
   "cell_type": "markdown",
   "metadata": {},
   "source": [
    "<div class=\"Q\"><br><br>\n",
    "\n",
    "    \n",
    "Which of the Data Structures below <b>CAN</b> have their elements be of any type of R object, including multiple Data Types?<br><br>\n",
    "         \n",
    "<br><div class=\"qhelp\"></div></div>\n"
   ]
  },
  {
   "cell_type": "markdown",
   "metadata": {},
   "source": [
    "<div class=\"TODO\">FACTORS</div>\n",
    "\n",
    "## Factors"
   ]
  },
  {
   "cell_type": "markdown",
   "metadata": {},
   "source": [
    "# Indexing\n",
    "\n",
    "There are multiple ways to access or replace values inside data structures. The most common approach is to use “indexing”. This is also referred to as “slicing”.\n",
    "\n",
    "Note that brackets `[ ]` are used for indexing, whereas parentheses `( )` are used to call a function.\n",
    "\n",
    "\n",
    "## Navigating within a vectors and lists\n",
    "\n",
    "Consider the following vector `x` and list `y`:"
   ]
  },
  {
   "cell_type": "code",
   "execution_count": 510,
   "metadata": {},
   "outputs": [],
   "source": [
    "x <- c(5, 2, 7, 4)\n",
    "\n",
    "y <- list(6, \"hello\", FALSE, x, 3.67, \"world\", 8L)"
   ]
  },
  {
   "cell_type": "markdown",
   "metadata": {},
   "source": [
    "To get the first element of vector `x`:"
   ]
  },
  {
   "cell_type": "code",
   "execution_count": 511,
   "metadata": {},
   "outputs": [
    {
     "data": {
      "text/html": [
       "5"
      ],
      "text/latex": [
       "5"
      ],
      "text/markdown": [
       "5"
      ],
      "text/plain": [
       "[1] 5"
      ]
     },
     "metadata": {},
     "output_type": "display_data"
    }
   ],
   "source": [
    "x[1]"
   ]
  },
  {
   "cell_type": "markdown",
   "metadata": {},
   "source": [
    "To get the second element of list `y`:"
   ]
  },
  {
   "cell_type": "code",
   "execution_count": 512,
   "metadata": {},
   "outputs": [
    {
     "data": {
      "text/html": [
       "<ol>\n",
       "\t<li>'hello'</li>\n",
       "</ol>\n"
      ],
      "text/latex": [
       "\\begin{enumerate}\n",
       "\\item 'hello'\n",
       "\\end{enumerate}\n"
      ],
      "text/markdown": [
       "1. 'hello'\n",
       "\n",
       "\n"
      ],
      "text/plain": [
       "[[1]]\n",
       "[1] \"hello\"\n"
      ]
     },
     "metadata": {},
     "output_type": "display_data"
    }
   ],
   "source": [
    "y[2]"
   ]
  },
  {
   "cell_type": "markdown",
   "metadata": {},
   "source": [
    "<span class=\"important\"></span> Elements within a **list** are also **lists!** To get to the contents inside a \"list element\" you need to use double brackets `[[ ]]`:"
   ]
  },
  {
   "cell_type": "code",
   "execution_count": 513,
   "metadata": {},
   "outputs": [
    {
     "data": {
      "text/html": [
       "<ol>\n",
       "\t<li>'hello'</li>\n",
       "</ol>\n"
      ],
      "text/latex": [
       "\\begin{enumerate}\n",
       "\\item 'hello'\n",
       "\\end{enumerate}\n"
      ],
      "text/markdown": [
       "1. 'hello'\n",
       "\n",
       "\n"
      ],
      "text/plain": [
       "[[1]]\n",
       "[1] \"hello\"\n"
      ]
     },
     "metadata": {},
     "output_type": "display_data"
    },
    {
     "data": {
      "text/html": [
       "'list'"
      ],
      "text/latex": [
       "'list'"
      ],
      "text/markdown": [
       "'list'"
      ],
      "text/plain": [
       "[1] \"list\""
      ]
     },
     "metadata": {},
     "output_type": "display_data"
    },
    {
     "data": {
      "text/html": [
       "'hello'"
      ],
      "text/latex": [
       "'hello'"
      ],
      "text/markdown": [
       "'hello'"
      ],
      "text/plain": [
       "[1] \"hello\""
      ]
     },
     "metadata": {},
     "output_type": "display_data"
    },
    {
     "data": {
      "text/html": [
       "'character'"
      ],
      "text/latex": [
       "'character'"
      ],
      "text/markdown": [
       "'character'"
      ],
      "text/plain": [
       "[1] \"character\""
      ]
     },
     "metadata": {},
     "output_type": "display_data"
    }
   ],
   "source": [
    "y[2]\n",
    "class(y[2])\n",
    "\n",
    "y[[2]]\n",
    "class(y[[2]])"
   ]
  },
  {
   "cell_type": "markdown",
   "metadata": {},
   "source": [
    "So, for example, `y[1] + y[5]` will return an error, because you cannot \"add\" two lists. To add the two values you need to do:"
   ]
  },
  {
   "cell_type": "code",
   "execution_count": 514,
   "metadata": {},
   "outputs": [
    {
     "data": {
      "text/html": [
       "9.67"
      ],
      "text/latex": [
       "9.67"
      ],
      "text/markdown": [
       "9.67"
      ],
      "text/plain": [
       "[1] 9.67"
      ]
     },
     "metadata": {},
     "output_type": "display_data"
    }
   ],
   "source": [
    "y[[1]] + y[[5]]"
   ]
  },
  {
   "cell_type": "markdown",
   "metadata": {},
   "source": [
    "To get a **range** of elements use the `:`. For example, to get the first 3 elements of vector `x`:"
   ]
  },
  {
   "cell_type": "code",
   "execution_count": 515,
   "metadata": {},
   "outputs": [
    {
     "data": {
      "text/html": [
       "<ol class=list-inline>\n",
       "\t<li>5</li>\n",
       "\t<li>2</li>\n",
       "\t<li>7</li>\n",
       "</ol>\n"
      ],
      "text/latex": [
       "\\begin{enumerate*}\n",
       "\\item 5\n",
       "\\item 2\n",
       "\\item 7\n",
       "\\end{enumerate*}\n"
      ],
      "text/markdown": [
       "1. 5\n",
       "2. 2\n",
       "3. 7\n",
       "\n",
       "\n"
      ],
      "text/plain": [
       "[1] 5 2 7"
      ]
     },
     "metadata": {},
     "output_type": "display_data"
    }
   ],
   "source": [
    "x[1:3]"
   ]
  },
  {
   "cell_type": "markdown",
   "metadata": {},
   "source": [
    "To get the 5th, 6th and 7th elements of list `y`:"
   ]
  },
  {
   "cell_type": "code",
   "execution_count": 516,
   "metadata": {
    "scrolled": false
   },
   "outputs": [
    {
     "data": {
      "text/html": [
       "<ol>\n",
       "\t<li>3.67</li>\n",
       "\t<li>'world'</li>\n",
       "\t<li>8</li>\n",
       "</ol>\n"
      ],
      "text/latex": [
       "\\begin{enumerate}\n",
       "\\item 3.67\n",
       "\\item 'world'\n",
       "\\item 8\n",
       "\\end{enumerate}\n"
      ],
      "text/markdown": [
       "1. 3.67\n",
       "2. 'world'\n",
       "3. 8\n",
       "\n",
       "\n"
      ],
      "text/plain": [
       "[[1]]\n",
       "[1] 3.67\n",
       "\n",
       "[[2]]\n",
       "[1] \"world\"\n",
       "\n",
       "[[3]]\n",
       "[1] 8\n"
      ]
     },
     "metadata": {},
     "output_type": "display_data"
    }
   ],
   "source": [
    "y[5:7]"
   ]
  },
  {
   "cell_type": "markdown",
   "metadata": {},
   "source": [
    "To access a **list within list**, you have to first dive into the values of the first list, using double brackets `[[ ]]`: "
   ]
  },
  {
   "cell_type": "code",
   "execution_count": 517,
   "metadata": {},
   "outputs": [
    {
     "data": {
      "text/html": [
       "<ol>\n",
       "\t<li><ol class=list-inline>\n",
       "\t<li>5</li>\n",
       "\t<li>2</li>\n",
       "\t<li>7</li>\n",
       "\t<li>4</li>\n",
       "</ol>\n",
       "</li>\n",
       "</ol>\n"
      ],
      "text/latex": [
       "\\begin{enumerate}\n",
       "\\item \\begin{enumerate*}\n",
       "\\item 5\n",
       "\\item 2\n",
       "\\item 7\n",
       "\\item 4\n",
       "\\end{enumerate*}\n",
       "\n",
       "\\end{enumerate}\n"
      ],
      "text/markdown": [
       "1. 1. 5\n",
       "2. 2\n",
       "3. 7\n",
       "4. 4\n",
       "\n",
       "\n",
       "\n",
       "\n",
       "\n"
      ],
      "text/plain": [
       "[[1]]\n",
       "[1] 5 2 7 4\n"
      ]
     },
     "metadata": {},
     "output_type": "display_data"
    },
    {
     "data": {
      "text/html": [
       "7"
      ],
      "text/latex": [
       "7"
      ],
      "text/markdown": [
       "7"
      ],
      "text/plain": [
       "[1] 7"
      ]
     },
     "metadata": {},
     "output_type": "display_data"
    }
   ],
   "source": [
    "# Here is the list stored in element 3\n",
    "y[4]\n",
    "\n",
    "# Here is the 3rd element of the list stored inside element 3 of list 'y'\n",
    "y[[4]][3]"
   ]
  },
  {
   "cell_type": "markdown",
   "metadata": {},
   "source": [
    "If you need the last element of a vector or list, but don't know how long is the vector or list, use the function `length()`:  "
   ]
  },
  {
   "cell_type": "code",
   "execution_count": 518,
   "metadata": {},
   "outputs": [
    {
     "data": {
      "text/html": [
       "4"
      ],
      "text/latex": [
       "4"
      ],
      "text/markdown": [
       "4"
      ],
      "text/plain": [
       "[1] 4"
      ]
     },
     "metadata": {},
     "output_type": "display_data"
    }
   ],
   "source": [
    "# To retrieve the last element of x\n",
    "x[length(x)]"
   ]
  },
  {
   "cell_type": "code",
   "execution_count": 519,
   "metadata": {
    "scrolled": true
   },
   "outputs": [
    {
     "data": {
      "text/html": [
       "<ol class=list-inline>\n",
       "\t<li>2</li>\n",
       "\t<li>7</li>\n",
       "\t<li>4</li>\n",
       "</ol>\n"
      ],
      "text/latex": [
       "\\begin{enumerate*}\n",
       "\\item 2\n",
       "\\item 7\n",
       "\\item 4\n",
       "\\end{enumerate*}\n"
      ],
      "text/markdown": [
       "1. 2\n",
       "2. 7\n",
       "3. 4\n",
       "\n",
       "\n"
      ],
      "text/plain": [
       "[1] 2 7 4"
      ]
     },
     "metadata": {},
     "output_type": "display_data"
    }
   ],
   "source": [
    "# To retrieve the last 3 elements of x\n",
    "x[(length(x)-2):length(x)]"
   ]
  },
  {
   "cell_type": "markdown",
   "metadata": {},
   "source": [
    "**Logical Indexing** is used when you need to retrieve elements according to a logical expression. This only works with vectors and list that **ONLY** contain numeric or integer data types."
   ]
  },
  {
   "cell_type": "code",
   "execution_count": 520,
   "metadata": {},
   "outputs": [
    {
     "data": {
      "text/html": [
       "<ol class=list-inline>\n",
       "\t<li>5</li>\n",
       "\t<li>7</li>\n",
       "\t<li>4</li>\n",
       "</ol>\n"
      ],
      "text/latex": [
       "\\begin{enumerate*}\n",
       "\\item 5\n",
       "\\item 7\n",
       "\\item 4\n",
       "\\end{enumerate*}\n"
      ],
      "text/markdown": [
       "1. 5\n",
       "2. 7\n",
       "3. 4\n",
       "\n",
       "\n"
      ],
      "text/plain": [
       "[1] 5 7 4"
      ]
     },
     "metadata": {},
     "output_type": "display_data"
    }
   ],
   "source": [
    "x[x > 3]"
   ]
  },
  {
   "cell_type": "code",
   "execution_count": 521,
   "metadata": {},
   "outputs": [
    {
     "data": {
      "text/html": [
       "<ol class=list-inline>\n",
       "\t<li>2</li>\n",
       "\t<li>4</li>\n",
       "</ol>\n"
      ],
      "text/latex": [
       "\\begin{enumerate*}\n",
       "\\item 2\n",
       "\\item 4\n",
       "\\end{enumerate*}\n"
      ],
      "text/markdown": [
       "1. 2\n",
       "2. 4\n",
       "\n",
       "\n"
      ],
      "text/plain": [
       "[1] 2 4"
      ]
     },
     "metadata": {},
     "output_type": "display_data"
    }
   ],
   "source": [
    "x[x <= 4]"
   ]
  },
  {
   "cell_type": "markdown",
   "metadata": {},
   "source": [
    "<div class=\"Q\"><br><br>\n",
    "\n",
    "    \n",
    "Given the following vector <span class=\"codeX\">v</span>:<br><br>\n",
    "    \n",
    "<span class=\"codeX\">v <- c(8, 5, 3, 1, 9, 2)</span><br><br>\n",
    "         \n",
    "...which is represented visually with the diagram below,\n",
    "\n",
    "<img src=\"./vector1.png\" width=\"50px\">\n",
    "         \n",
    "How would you access the value highlighted in the red box?<br><br>\n",
    "         \n",
    "<br><div class=\"qhelp\"></div></div>\n"
   ]
  },
  {
   "cell_type": "markdown",
   "metadata": {},
   "source": [
    "<div class=\"Q\"><br><br>\n",
    "\n",
    "    \n",
    "Given the following vector <span class=\"codeX\">v</span>:<br><br>\n",
    "    \n",
    "<span class=\"codeX\">v <- c(8, 5, 3, 1, 9, 2)</span><br><br>\n",
    "         \n",
    "...which is represented visually with the diagram below,\n",
    "\n",
    "<img src=\"./vector2.png\" width=\"50px\">\n",
    "         \n",
    "How would you access the value highlighted in the red box?<br><br>\n",
    "         \n",
    "<br><div class=\"qhelp\"></div></div>\n"
   ]
  },
  {
   "cell_type": "markdown",
   "metadata": {},
   "source": [
    "<div class=\"Q\"><br><br>\n",
    "\n",
    "    \n",
    "Given the following vector <span class=\"codeX\">v</span>:<br><br>\n",
    "    \n",
    "<span class=\"codeX\">v <- c(8, 5, 3, 1, 9, 2)</span><br><br>\n",
    "         \n",
    "...which is represented visually with the diagram below,\n",
    "\n",
    "<img src=\"./vector3.png\" width=\"50px\">\n",
    "         \n",
    "How would you access the values highlighted within the red box?<br><br>\n",
    "         \n",
    "<br><div class=\"qhelp\"></div></div>\n"
   ]
  },
  {
   "cell_type": "markdown",
   "metadata": {},
   "source": [
    "<div class=\"Q\"><br><br>\n",
    "\n",
    "    \n",
    "Given the following vector <span class=\"codeX\">v</span>:<br><br>\n",
    "    \n",
    "<span class=\"codeX\">v <- c(8, 5, 3, 1, 9, 2)</span><br><br>\n",
    "         \n",
    "...which is represented visually with the diagram below,\n",
    "\n",
    "<img src=\"./vector4.png\" width=\"50px\">\n",
    "         \n",
    "How would you access the value highlighted in the red box?<br><br>\n",
    "         \n",
    "<br><div class=\"qhelp\"></div></div>\n"
   ]
  },
  {
   "cell_type": "markdown",
   "metadata": {},
   "source": [
    "<div class=\"Q\"><br><br>\n",
    "\n",
    "    \n",
    "Given the following vector <span class=\"codeX\">v</span>:<br><br>\n",
    "    \n",
    "<span class=\"codeX\">v <- c(8, 5, 3, 1, 9, 2)</span><br><br>\n",
    "         \n",
    "...which is represented visually with the diagram below,\n",
    "\n",
    "<img src=\"./vector5.png\" width=\"50px\">\n",
    "         \n",
    "How would you access the values highlighted within the red box?<br><br>\n",
    "         \n",
    "<br><div class=\"qhelp\"></div></div>\n"
   ]
  },
  {
   "cell_type": "markdown",
   "metadata": {},
   "source": [
    "<div class=\"Q\"><br><br>\n",
    "\n",
    "    \n",
    "Given the following list <span class=\"codeX\">L</span>:<br><br>\n",
    "    \n",
    "<span class=\"codeX\">L <- list(7L, \"hello\", 3.6, c(7, 5, 2), 9, \"world\")</span><br><br>\n",
    "         \n",
    "...which is represented visually with the diagram below,\n",
    "\n",
    "<img src=\"./list1.png\" width=\"150px\">\n",
    "         \n",
    "How would you access the value highlighted in the red box?<br><br>\n",
    "         \n",
    "<br><div class=\"qhelp\"></div></div>\n"
   ]
  },
  {
   "cell_type": "markdown",
   "metadata": {},
   "source": [
    "<div class=\"Q\"><br><br>\n",
    "\n",
    "Given the following list <span class=\"codeX\">L</span>:<br><br>\n",
    "    \n",
    "<span class=\"codeX\">L <- list(7L, \"hello\", 3.6, c(7, 5, 2), 9, \"world\")</span><br><br>\n",
    "         \n",
    "...which is represented visually with the diagram below,\n",
    "\n",
    "<img src=\"./list2.png\" width=\"150px\">\n",
    "         \n",
    "How would you access the values highlighted in the red box?<br><br>\n",
    "         \n",
    "<br><div class=\"qhelp\"></div></div>\n"
   ]
  },
  {
   "cell_type": "markdown",
   "metadata": {},
   "source": [
    "<div class=\"Q\"><br><br>\n",
    "\n",
    "    \n",
    "Given the following list <span class=\"codeX\">L</span>:<br><br>\n",
    "    \n",
    "<span class=\"codeX\">L <- list(7L, \"hello\", 3.6, c(7, 5, 2), 9, \"world\")</span><br><br>\n",
    "         \n",
    "...which is represented visually with the diagram below,\n",
    "\n",
    "<img src=\"./list3.png\" width=\"150px\">\n",
    "         \n",
    "How would you access the value highlighted in the red box?<br><br>\n",
    "         \n",
    "<br><div class=\"qhelp\"></div></div>\n"
   ]
  },
  {
   "cell_type": "markdown",
   "metadata": {},
   "source": [
    "<div class=\"Q\"><br><br>\n",
    "\n",
    "    \n",
    "Given the following list <span class=\"codeX\">L</span>:<br><br>\n",
    "    \n",
    "<span class=\"codeX\">L <- list(7L, \"hello\", 3.6, c(7, 5, 2), 9, \"world\")</span><br><br>\n",
    "         \n",
    "...which is represented visually with the diagram below,\n",
    "\n",
    "<img src=\"./list4.png\" width=\"150px\">\n",
    "         \n",
    "How would you access the value highlighted in the red box?<br><br>\n",
    "         \n",
    "<br><div class=\"qhelp\"></div></div>\n"
   ]
  },
  {
   "cell_type": "markdown",
   "metadata": {},
   "source": [
    "<div class=\"Q\"><br><br>\n",
    "\n",
    "    \n",
    "Given the following list <span class=\"codeX\">L</span>:<br><br>\n",
    "    \n",
    "<span class=\"codeX\">L <- list(7L, \"hello\", 3.6, c(7, 5, 2), 9, \"world\")</span><br><br>\n",
    "         \n",
    "...which is represented visually with the diagram below,\n",
    "\n",
    "<img src=\"./list5.png\" width=\"150px\">\n",
    "         \n",
    "How would you access the values highlighted in the red box?<br><br>\n",
    "         \n",
    "<br><div class=\"qhelp\"></div></div>\n"
   ]
  },
  {
   "cell_type": "markdown",
   "metadata": {},
   "source": [
    "## Navigating within Matrices\n",
    "\n",
    "Consider the following matrix `m`:\n"
   ]
  },
  {
   "cell_type": "code",
   "execution_count": 522,
   "metadata": {},
   "outputs": [
    {
     "data": {
      "text/html": [
       "<table>\n",
       "<tbody>\n",
       "\t<tr><td>1 </td><td>5 </td><td> 9</td></tr>\n",
       "\t<tr><td>2 </td><td>6 </td><td>10</td></tr>\n",
       "\t<tr><td>3 </td><td>7 </td><td>11</td></tr>\n",
       "\t<tr><td>4 </td><td>8 </td><td>12</td></tr>\n",
       "</tbody>\n",
       "</table>\n"
      ],
      "text/latex": [
       "\\begin{tabular}{lll}\n",
       "\t 1  & 5  &  9\\\\\n",
       "\t 2  & 6  & 10\\\\\n",
       "\t 3  & 7  & 11\\\\\n",
       "\t 4  & 8  & 12\\\\\n",
       "\\end{tabular}\n"
      ],
      "text/markdown": [
       "\n",
       "| 1  | 5  |  9 |\n",
       "| 2  | 6  | 10 |\n",
       "| 3  | 7  | 11 |\n",
       "| 4  | 8  | 12 |\n",
       "\n"
      ],
      "text/plain": [
       "     [,1] [,2] [,3]\n",
       "[1,] 1    5     9  \n",
       "[2,] 2    6    10  \n",
       "[3,] 3    7    11  \n",
       "[4,] 4    8    12  "
      ]
     },
     "metadata": {},
     "output_type": "display_data"
    }
   ],
   "source": [
    "m <- matrix(c(1, 2, 3, 4, 5, 6, 7, 8, 9, 10, 11, 12), nrow=4, ncol=3)\n",
    "\n",
    "m"
   ]
  },
  {
   "cell_type": "markdown",
   "metadata": {},
   "source": [
    "To get to a single number within the matrix, use a pair of indices where the **first index is the row number** and the **second index is the column number**:"
   ]
  },
  {
   "cell_type": "code",
   "execution_count": 523,
   "metadata": {},
   "outputs": [
    {
     "data": {
      "text/html": [
       "5"
      ],
      "text/latex": [
       "5"
      ],
      "text/markdown": [
       "5"
      ],
      "text/plain": [
       "[1] 5"
      ]
     },
     "metadata": {},
     "output_type": "display_data"
    }
   ],
   "source": [
    "m[1,2]"
   ]
  },
  {
   "cell_type": "markdown",
   "metadata": {},
   "source": [
    "Rather than using pairs, you can also get single index. You can think of this index as a “cell number”. Cells are numbered column-wise (i.e., first the rows in the first column, then the second column, etc.). Thus,"
   ]
  },
  {
   "cell_type": "code",
   "execution_count": 524,
   "metadata": {},
   "outputs": [
    {
     "data": {
      "text/html": [
       "6"
      ],
      "text/latex": [
       "6"
      ],
      "text/markdown": [
       "6"
      ],
      "text/plain": [
       "[1] 6"
      ]
     },
     "metadata": {},
     "output_type": "display_data"
    }
   ],
   "source": [
    "m[6]"
   ]
  },
  {
   "cell_type": "markdown",
   "metadata": {},
   "source": [
    "You can also get multiple values at once:"
   ]
  },
  {
   "cell_type": "code",
   "execution_count": 525,
   "metadata": {},
   "outputs": [
    {
     "data": {
      "text/html": [
       "<table>\n",
       "<tbody>\n",
       "\t<tr><td>5 </td><td> 9</td></tr>\n",
       "\t<tr><td>6 </td><td>10</td></tr>\n",
       "</tbody>\n",
       "</table>\n"
      ],
      "text/latex": [
       "\\begin{tabular}{ll}\n",
       "\t 5  &  9\\\\\n",
       "\t 6  & 10\\\\\n",
       "\\end{tabular}\n"
      ],
      "text/markdown": [
       "\n",
       "| 5  |  9 |\n",
       "| 6  | 10 |\n",
       "\n"
      ],
      "text/plain": [
       "     [,1] [,2]\n",
       "[1,] 5     9  \n",
       "[2,] 6    10  "
      ]
     },
     "metadata": {},
     "output_type": "display_data"
    }
   ],
   "source": [
    "m[1:2,2:3]"
   ]
  },
  {
   "cell_type": "markdown",
   "metadata": {},
   "source": [
    "To get a whole **column**, use a coma **before** the column index. The statement below read *return all rows of column 1:"
   ]
  },
  {
   "cell_type": "code",
   "execution_count": 526,
   "metadata": {},
   "outputs": [
    {
     "data": {
      "text/html": [
       "<ol class=list-inline>\n",
       "\t<li>1</li>\n",
       "\t<li>2</li>\n",
       "\t<li>3</li>\n",
       "\t<li>4</li>\n",
       "</ol>\n"
      ],
      "text/latex": [
       "\\begin{enumerate*}\n",
       "\\item 1\n",
       "\\item 2\n",
       "\\item 3\n",
       "\\item 4\n",
       "\\end{enumerate*}\n"
      ],
      "text/markdown": [
       "1. 1\n",
       "2. 2\n",
       "3. 3\n",
       "4. 4\n",
       "\n",
       "\n"
      ],
      "text/plain": [
       "[1] 1 2 3 4"
      ]
     },
     "metadata": {},
     "output_type": "display_data"
    }
   ],
   "source": [
    "m[, 1]"
   ]
  },
  {
   "cell_type": "markdown",
   "metadata": {},
   "source": [
    "To get a whole **row**, use a coma **after** the row index: The statement below read *return row 1... all columns:"
   ]
  },
  {
   "cell_type": "code",
   "execution_count": 527,
   "metadata": {},
   "outputs": [
    {
     "data": {
      "text/html": [
       "<ol class=list-inline>\n",
       "\t<li>1</li>\n",
       "\t<li>5</li>\n",
       "\t<li>9</li>\n",
       "</ol>\n"
      ],
      "text/latex": [
       "\\begin{enumerate*}\n",
       "\\item 1\n",
       "\\item 5\n",
       "\\item 9\n",
       "\\end{enumerate*}\n"
      ],
      "text/markdown": [
       "1. 1\n",
       "2. 5\n",
       "3. 9\n",
       "\n",
       "\n"
      ],
      "text/plain": [
       "[1] 1 5 9"
      ]
     },
     "metadata": {},
     "output_type": "display_data"
    }
   ],
   "source": [
    "m[1,]"
   ]
  },
  {
   "cell_type": "markdown",
   "metadata": {},
   "source": [
    "<span class=\"note\"></span> Getting a whole **row** or **column** from a matrix returns a `vector`:"
   ]
  },
  {
   "cell_type": "code",
   "execution_count": 528,
   "metadata": {},
   "outputs": [
    {
     "data": {
      "text/html": [
       "'matrix'"
      ],
      "text/latex": [
       "'matrix'"
      ],
      "text/markdown": [
       "'matrix'"
      ],
      "text/plain": [
       "[1] \"matrix\""
      ]
     },
     "metadata": {},
     "output_type": "display_data"
    },
    {
     "data": {
      "text/html": [
       "'numeric'"
      ],
      "text/latex": [
       "'numeric'"
      ],
      "text/markdown": [
       "'numeric'"
      ],
      "text/plain": [
       "[1] \"numeric\""
      ]
     },
     "metadata": {},
     "output_type": "display_data"
    }
   ],
   "source": [
    "class(m)\n",
    "\n",
    "class(m[, 1])"
   ]
  },
  {
   "cell_type": "markdown",
   "metadata": {},
   "source": [
    "<div class=\"Q\"><br><br>\n",
    "\n",
    "    \n",
    "Given the following matrix <span class=\"codeX\">m</span>:<br><br>\n",
    "    \n",
    "<span class=\"codeX\">m <- matrix(c(2,4,7,3,5,3,9,7,0,6,8,2),nrow=4, ncol=3)</span><br><br>\n",
    "         \n",
    "...which is represented visually with the diagram below,\n",
    "\n",
    "<img src=\"./matrix1.png\" width=\"150px\">\n",
    "         \n",
    "How would you access the value highlighted in the red box?<br><br>\n",
    "         \n",
    "<br><div class=\"qhelp\"></div></div>\n"
   ]
  },
  {
   "cell_type": "markdown",
   "metadata": {},
   "source": [
    "<div class=\"Q\"><br><br>\n",
    "\n",
    "    \n",
    "Given the following matrix <span class=\"codeX\">m</span>:<br><br>\n",
    "    \n",
    "<span class=\"codeX\">m <- matrix(c(2,4,7,3,5,3,9,7,0,6,8,2),nrow=4, ncol=3)</span><br><br>\n",
    "         \n",
    "...which is represented visually with the diagram below,\n",
    "\n",
    "<img src=\"./matrix2.png\" width=\"150px\">\n",
    "         \n",
    "How would you access the values highlighted in the red box?<br><br>\n",
    "         \n",
    "<br><div class=\"qhelp\"></div></div>\n"
   ]
  },
  {
   "cell_type": "markdown",
   "metadata": {},
   "source": [
    "<div class=\"Q\"><br><br>\n",
    "\n",
    "    \n",
    "Given the following matrix <span class=\"codeX\">m</span>:<br><br>\n",
    "    \n",
    "<span class=\"codeX\">m <- matrix(c(2,4,7,3,5,3,9,7,0,6,8,2),nrow=4, ncol=3)</span><br><br>\n",
    "         \n",
    "...which is represented visually with the diagram below,\n",
    "\n",
    "<img src=\"./matrix3.png\" width=\"150px\">\n",
    "         \n",
    "How would you access the values highlighted in the red box?<br><br>\n",
    "         \n",
    "<br><div class=\"qhelp\"></div></div>\n"
   ]
  },
  {
   "cell_type": "markdown",
   "metadata": {},
   "source": [
    "<div class=\"Q\"><br><br>\n",
    "\n",
    "    \n",
    "Given the following matrix <span class=\"codeX\">m</span>:<br><br>\n",
    "    \n",
    "<span class=\"codeX\">m <- matrix(c(2,4,7,3,5,3,9,7,0,6,8,2),nrow=4, ncol=3)</span><br><br>\n",
    "         \n",
    "...which is represented visually with the diagram below,\n",
    "\n",
    "<img src=\"./matrix3.png\" width=\"150px\">\n",
    "         \n",
    "If you make a <b>new variable</b> with the values highlighted in the red box (using your answer to the question above)...\n",
    "    \n",
    "...what class or Data Structure will be asigned to your <b>new variable</b>?<br><br>\n",
    "         \n",
    "<br><div class=\"qhelp\"></div></div>\n"
   ]
  },
  {
   "cell_type": "markdown",
   "metadata": {},
   "source": [
    "## Navigating within Data Frames\n",
    "\n",
    "Consider the following data frame `d`:"
   ]
  },
  {
   "cell_type": "code",
   "execution_count": 529,
   "metadata": {},
   "outputs": [
    {
     "data": {
      "text/html": [
       "<table>\n",
       "<thead><tr><th scope=col>id</th><th scope=col>x</th><th scope=col>y</th></tr></thead>\n",
       "<tbody>\n",
       "\t<tr><td> 1</td><td>11</td><td>21</td></tr>\n",
       "\t<tr><td> 2</td><td>12</td><td>22</td></tr>\n",
       "\t<tr><td> 3</td><td>13</td><td>23</td></tr>\n",
       "\t<tr><td> 4</td><td>14</td><td>24</td></tr>\n",
       "\t<tr><td> 5</td><td>15</td><td>25</td></tr>\n",
       "\t<tr><td> 6</td><td>16</td><td>26</td></tr>\n",
       "\t<tr><td> 7</td><td>17</td><td>27</td></tr>\n",
       "\t<tr><td> 8</td><td>18</td><td>28</td></tr>\n",
       "\t<tr><td> 9</td><td>19</td><td>29</td></tr>\n",
       "\t<tr><td>10</td><td>20</td><td>30</td></tr>\n",
       "</tbody>\n",
       "</table>\n"
      ],
      "text/latex": [
       "\\begin{tabular}{r|lll}\n",
       " id & x & y\\\\\n",
       "\\hline\n",
       "\t  1 & 11 & 21\\\\\n",
       "\t  2 & 12 & 22\\\\\n",
       "\t  3 & 13 & 23\\\\\n",
       "\t  4 & 14 & 24\\\\\n",
       "\t  5 & 15 & 25\\\\\n",
       "\t  6 & 16 & 26\\\\\n",
       "\t  7 & 17 & 27\\\\\n",
       "\t  8 & 18 & 28\\\\\n",
       "\t  9 & 19 & 29\\\\\n",
       "\t 10 & 20 & 30\\\\\n",
       "\\end{tabular}\n"
      ],
      "text/markdown": [
       "\n",
       "| id | x | y |\n",
       "|---|---|---|\n",
       "|  1 | 11 | 21 |\n",
       "|  2 | 12 | 22 |\n",
       "|  3 | 13 | 23 |\n",
       "|  4 | 14 | 24 |\n",
       "|  5 | 15 | 25 |\n",
       "|  6 | 16 | 26 |\n",
       "|  7 | 17 | 27 |\n",
       "|  8 | 18 | 28 |\n",
       "|  9 | 19 | 29 |\n",
       "| 10 | 20 | 30 |\n",
       "\n"
      ],
      "text/plain": [
       "   id x  y \n",
       "1   1 11 21\n",
       "2   2 12 22\n",
       "3   3 13 23\n",
       "4   4 14 24\n",
       "5   5 15 25\n",
       "6   6 16 26\n",
       "7   7 17 27\n",
       "8   8 18 28\n",
       "9   9 19 29\n",
       "10 10 20 30"
      ]
     },
     "metadata": {},
     "output_type": "display_data"
    }
   ],
   "source": [
    "d <- data.frame(id = 1:10, x = 11:20, y = 21:30)\n",
    "\n",
    "d"
   ]
  },
  {
   "cell_type": "markdown",
   "metadata": {},
   "source": [
    "You can extract a column by column number:"
   ]
  },
  {
   "cell_type": "code",
   "execution_count": 530,
   "metadata": {},
   "outputs": [
    {
     "data": {
      "text/html": [
       "<ol class=list-inline>\n",
       "\t<li>11</li>\n",
       "\t<li>12</li>\n",
       "\t<li>13</li>\n",
       "\t<li>14</li>\n",
       "\t<li>15</li>\n",
       "\t<li>16</li>\n",
       "\t<li>17</li>\n",
       "\t<li>18</li>\n",
       "\t<li>19</li>\n",
       "\t<li>20</li>\n",
       "</ol>\n"
      ],
      "text/latex": [
       "\\begin{enumerate*}\n",
       "\\item 11\n",
       "\\item 12\n",
       "\\item 13\n",
       "\\item 14\n",
       "\\item 15\n",
       "\\item 16\n",
       "\\item 17\n",
       "\\item 18\n",
       "\\item 19\n",
       "\\item 20\n",
       "\\end{enumerate*}\n"
      ],
      "text/markdown": [
       "1. 11\n",
       "2. 12\n",
       "3. 13\n",
       "4. 14\n",
       "5. 15\n",
       "6. 16\n",
       "7. 17\n",
       "8. 18\n",
       "9. 19\n",
       "10. 20\n",
       "\n",
       "\n"
      ],
      "text/plain": [
       " [1] 11 12 13 14 15 16 17 18 19 20"
      ]
     },
     "metadata": {},
     "output_type": "display_data"
    }
   ],
   "source": [
    "d[,2]"
   ]
  },
  {
   "cell_type": "markdown",
   "metadata": {},
   "source": [
    "Here is an alternative way to address the column number in a data frame:"
   ]
  },
  {
   "cell_type": "code",
   "execution_count": 531,
   "metadata": {},
   "outputs": [
    {
     "data": {
      "text/html": [
       "<table>\n",
       "<thead><tr><th scope=col>x</th></tr></thead>\n",
       "<tbody>\n",
       "\t<tr><td>11</td></tr>\n",
       "\t<tr><td>12</td></tr>\n",
       "\t<tr><td>13</td></tr>\n",
       "\t<tr><td>14</td></tr>\n",
       "\t<tr><td>15</td></tr>\n",
       "\t<tr><td>16</td></tr>\n",
       "\t<tr><td>17</td></tr>\n",
       "\t<tr><td>18</td></tr>\n",
       "\t<tr><td>19</td></tr>\n",
       "\t<tr><td>20</td></tr>\n",
       "</tbody>\n",
       "</table>\n"
      ],
      "text/latex": [
       "\\begin{tabular}{r|l}\n",
       " x\\\\\n",
       "\\hline\n",
       "\t 11\\\\\n",
       "\t 12\\\\\n",
       "\t 13\\\\\n",
       "\t 14\\\\\n",
       "\t 15\\\\\n",
       "\t 16\\\\\n",
       "\t 17\\\\\n",
       "\t 18\\\\\n",
       "\t 19\\\\\n",
       "\t 20\\\\\n",
       "\\end{tabular}\n"
      ],
      "text/markdown": [
       "\n",
       "| x |\n",
       "|---|\n",
       "| 11 |\n",
       "| 12 |\n",
       "| 13 |\n",
       "| 14 |\n",
       "| 15 |\n",
       "| 16 |\n",
       "| 17 |\n",
       "| 18 |\n",
       "| 19 |\n",
       "| 20 |\n",
       "\n"
      ],
      "text/plain": [
       "   x \n",
       "1  11\n",
       "2  12\n",
       "3  13\n",
       "4  14\n",
       "5  15\n",
       "6  16\n",
       "7  17\n",
       "8  18\n",
       "9  19\n",
       "10 20"
      ]
     },
     "metadata": {},
     "output_type": "display_data"
    }
   ],
   "source": [
    "d[2]"
   ]
  },
  {
   "cell_type": "markdown",
   "metadata": {},
   "source": [
    "Note that whereas `[2]` would be the second element in a matrix, it refers to the second *column* in a `data.frame`. This is because a `data.frame` is a special kind of list and not a special kind of matrix.\n",
    "\n",
    "You can also use the column name to get the values of a column: "
   ]
  },
  {
   "cell_type": "code",
   "execution_count": 532,
   "metadata": {},
   "outputs": [
    {
     "data": {
      "text/html": [
       "<ol class=list-inline>\n",
       "\t<li>11</li>\n",
       "\t<li>12</li>\n",
       "\t<li>13</li>\n",
       "\t<li>14</li>\n",
       "\t<li>15</li>\n",
       "\t<li>16</li>\n",
       "\t<li>17</li>\n",
       "\t<li>18</li>\n",
       "\t<li>19</li>\n",
       "\t<li>20</li>\n",
       "</ol>\n"
      ],
      "text/latex": [
       "\\begin{enumerate*}\n",
       "\\item 11\n",
       "\\item 12\n",
       "\\item 13\n",
       "\\item 14\n",
       "\\item 15\n",
       "\\item 16\n",
       "\\item 17\n",
       "\\item 18\n",
       "\\item 19\n",
       "\\item 20\n",
       "\\end{enumerate*}\n"
      ],
      "text/markdown": [
       "1. 11\n",
       "2. 12\n",
       "3. 13\n",
       "4. 14\n",
       "5. 15\n",
       "6. 16\n",
       "7. 17\n",
       "8. 18\n",
       "9. 19\n",
       "10. 20\n",
       "\n",
       "\n"
      ],
      "text/plain": [
       " [1] 11 12 13 14 15 16 17 18 19 20"
      ]
     },
     "metadata": {},
     "output_type": "display_data"
    }
   ],
   "source": [
    "d[,\"x\"]"
   ]
  },
  {
   "cell_type": "markdown",
   "metadata": {},
   "source": [
    " In addition to `d[,\"x\"]` above, you can also use the `$` symbol. \n",
    "\n",
    "<span class=\"important\"></span> Using the `$` symbol is a very common practice to slice a column of a `data.frame`:"
   ]
  },
  {
   "cell_type": "code",
   "execution_count": 533,
   "metadata": {},
   "outputs": [
    {
     "data": {
      "text/html": [
       "<ol class=list-inline>\n",
       "\t<li>11</li>\n",
       "\t<li>12</li>\n",
       "\t<li>13</li>\n",
       "\t<li>14</li>\n",
       "\t<li>15</li>\n",
       "\t<li>16</li>\n",
       "\t<li>17</li>\n",
       "\t<li>18</li>\n",
       "\t<li>19</li>\n",
       "\t<li>20</li>\n",
       "</ol>\n"
      ],
      "text/latex": [
       "\\begin{enumerate*}\n",
       "\\item 11\n",
       "\\item 12\n",
       "\\item 13\n",
       "\\item 14\n",
       "\\item 15\n",
       "\\item 16\n",
       "\\item 17\n",
       "\\item 18\n",
       "\\item 19\n",
       "\\item 20\n",
       "\\end{enumerate*}\n"
      ],
      "text/markdown": [
       "1. 11\n",
       "2. 12\n",
       "3. 13\n",
       "4. 14\n",
       "5. 15\n",
       "6. 16\n",
       "7. 17\n",
       "8. 18\n",
       "9. 19\n",
       "10. 20\n",
       "\n",
       "\n"
      ],
      "text/plain": [
       " [1] 11 12 13 14 15 16 17 18 19 20"
      ]
     },
     "metadata": {},
     "output_type": "display_data"
    }
   ],
   "source": [
    "d$x"
   ]
  },
  {
   "cell_type": "code",
   "execution_count": 534,
   "metadata": {},
   "outputs": [
    {
     "data": {
      "text/html": [
       "<table>\n",
       "<thead><tr><th scope=col>x</th></tr></thead>\n",
       "<tbody>\n",
       "\t<tr><td>11</td></tr>\n",
       "\t<tr><td>12</td></tr>\n",
       "\t<tr><td>13</td></tr>\n",
       "\t<tr><td>14</td></tr>\n",
       "\t<tr><td>15</td></tr>\n",
       "\t<tr><td>16</td></tr>\n",
       "\t<tr><td>17</td></tr>\n",
       "\t<tr><td>18</td></tr>\n",
       "\t<tr><td>19</td></tr>\n",
       "\t<tr><td>20</td></tr>\n",
       "</tbody>\n",
       "</table>\n"
      ],
      "text/latex": [
       "\\begin{tabular}{r|l}\n",
       " x\\\\\n",
       "\\hline\n",
       "\t 11\\\\\n",
       "\t 12\\\\\n",
       "\t 13\\\\\n",
       "\t 14\\\\\n",
       "\t 15\\\\\n",
       "\t 16\\\\\n",
       "\t 17\\\\\n",
       "\t 18\\\\\n",
       "\t 19\\\\\n",
       "\t 20\\\\\n",
       "\\end{tabular}\n"
      ],
      "text/markdown": [
       "\n",
       "| x |\n",
       "|---|\n",
       "| 11 |\n",
       "| 12 |\n",
       "| 13 |\n",
       "| 14 |\n",
       "| 15 |\n",
       "| 16 |\n",
       "| 17 |\n",
       "| 18 |\n",
       "| 19 |\n",
       "| 20 |\n",
       "\n"
      ],
      "text/plain": [
       "   x \n",
       "1  11\n",
       "2  12\n",
       "3  13\n",
       "4  14\n",
       "5  15\n",
       "6  16\n",
       "7  17\n",
       "8  18\n",
       "9  19\n",
       "10 20"
      ]
     },
     "metadata": {},
     "output_type": "display_data"
    }
   ],
   "source": [
    "d[\"x\"]"
   ]
  },
  {
   "cell_type": "markdown",
   "metadata": {},
   "source": [
    "Note that both `d[,\"x\"]` and `d$x` return a `vector`. That is, the complexity of the `data.frame` structure was `dropped`. This does not happen when you do `d[\"x\"]`, where the outputs remains a `data.frame`. Take a look:"
   ]
  },
  {
   "cell_type": "code",
   "execution_count": 535,
   "metadata": {},
   "outputs": [
    {
     "data": {
      "text/html": [
       "'integer'"
      ],
      "text/latex": [
       "'integer'"
      ],
      "text/markdown": [
       "'integer'"
      ],
      "text/plain": [
       "[1] \"integer\""
      ]
     },
     "metadata": {},
     "output_type": "display_data"
    },
    {
     "data": {
      "text/html": [
       "'integer'"
      ],
      "text/latex": [
       "'integer'"
      ],
      "text/markdown": [
       "'integer'"
      ],
      "text/plain": [
       "[1] \"integer\""
      ]
     },
     "metadata": {},
     "output_type": "display_data"
    },
    {
     "data": {
      "text/html": [
       "'data.frame'"
      ],
      "text/latex": [
       "'data.frame'"
      ],
      "text/markdown": [
       "'data.frame'"
      ],
      "text/plain": [
       "[1] \"data.frame\""
      ]
     },
     "metadata": {},
     "output_type": "display_data"
    }
   ],
   "source": [
    "class(d[,\"x\"]) # This drops the data.frame and returns a vector\n",
    "class(d$x)     # This drops the data.frame and returns a vector\n",
    "class(d[\"x\"])  # This preserves the data.frame"
   ]
  },
  {
   "cell_type": "markdown",
   "metadata": {},
   "source": [
    "Why should you care about this `drop` business? In many cases R functions want a specific data type, such as a `matrix` or `data.frame` and report an error if they get something else. One common situation is that you think you provide data of the right type, such as a `data.frame`, but that in fact you are providing a vector, because the structure dropped.\n",
    "\n",
    "Either way, you can use `[ ]` with all three approaches to get to a specific value within a column:"
   ]
  },
  {
   "cell_type": "code",
   "execution_count": 536,
   "metadata": {},
   "outputs": [
    {
     "data": {
      "text/html": [
       "12"
      ],
      "text/latex": [
       "12"
      ],
      "text/markdown": [
       "12"
      ],
      "text/plain": [
       "[1] 12"
      ]
     },
     "metadata": {},
     "output_type": "display_data"
    }
   ],
   "source": [
    "d[[\"x\"]][2]"
   ]
  },
  {
   "cell_type": "code",
   "execution_count": 537,
   "metadata": {},
   "outputs": [
    {
     "data": {
      "text/html": [
       "12"
      ],
      "text/latex": [
       "12"
      ],
      "text/markdown": [
       "12"
      ],
      "text/plain": [
       "[1] 12"
      ]
     },
     "metadata": {},
     "output_type": "display_data"
    }
   ],
   "source": [
    "d$x[2]"
   ]
  },
  {
   "cell_type": "code",
   "execution_count": 538,
   "metadata": {},
   "outputs": [
    {
     "data": {
      "text/html": [
       "<ol class=list-inline>\n",
       "\t<li>12</li>\n",
       "\t<li>13</li>\n",
       "\t<li>14</li>\n",
       "</ol>\n"
      ],
      "text/latex": [
       "\\begin{enumerate*}\n",
       "\\item 12\n",
       "\\item 13\n",
       "\\item 14\n",
       "\\end{enumerate*}\n"
      ],
      "text/markdown": [
       "1. 12\n",
       "2. 13\n",
       "3. 14\n",
       "\n",
       "\n"
      ],
      "text/plain": [
       "[1] 12 13 14"
      ]
     },
     "metadata": {},
     "output_type": "display_data"
    }
   ],
   "source": [
    "d$x[2:4]"
   ]
  },
  {
   "cell_type": "markdown",
   "metadata": {},
   "source": [
    "<div class=\"Q\"><br><br>\n",
    "\n",
    "    \n",
    "Given the following Data Frame <span class=\"codeX\">d</span>:<br><br>\n",
    "    \n",
    "<span class=\"codeX\">d <- data.frame(x=2:6, y=3:7, z=4:8)</span><br><br>\n",
    "         \n",
    "...which is represented visually with the diagram below,\n",
    "\n",
    "<img src=\"./dataframe0.png\" width=\"150px\">\n",
    "         \n",
    "How would you access the values highlighted in the red box?<br><br>\n",
    "         \n",
    "<br><div class=\"qhelp\"></div></div>\n"
   ]
  },
  {
   "cell_type": "markdown",
   "metadata": {},
   "source": [
    "<div class=\"Q\"><br><br>\n",
    "\n",
    "    \n",
    "Given the following Data Frame <span class=\"codeX\">d</span>:<br><br>\n",
    "    \n",
    "<span class=\"codeX\">d <- data.frame(x=2:6, y=3:7, z=4:8)</span><br><br>\n",
    "         \n",
    "...which is represented visually with the diagram below,\n",
    "\n",
    "<img src=\"./dataframe1.png\" width=\"150px\">\n",
    "         \n",
    "Select all the choices that you could use to access the values highlighted in the red box?<br><br>\n",
    "         \n",
    "<br><div class=\"qhelp\"></div></div>\n"
   ]
  },
  {
   "cell_type": "markdown",
   "metadata": {},
   "source": [
    "<div class=\"Q\"><br><br>\n",
    "\n",
    "    \n",
    "Given the following Data Frame <span class=\"codeX\">d</span>:<br><br>\n",
    "    \n",
    "<span class=\"codeX\">d <- data.frame(x=2:6, y=3:7, z=4:8)</span><br><br>\n",
    "         \n",
    "...which is represented visually with the diagram below,\n",
    "\n",
    "<img src=\"./dataframe2.png\" width=\"150px\">\n",
    "         \n",
    "How would you access the value highlighted in the red box?<br><br>\n",
    "         \n",
    "<br><div class=\"qhelp\"></div></div>\n"
   ]
  },
  {
   "cell_type": "markdown",
   "metadata": {},
   "source": [
    "<div class=\"Q\"><br><br>\n",
    "\n",
    "    \n",
    "    \n",
    "Given the following Data Frame <span class=\"codeX\">d</span>:<br><br>\n",
    "    \n",
    "<span class=\"codeX\">d <- data.frame(x=2:6, y=3:7, z=4:8)</span><br><br>\n",
    "         \n",
    "and given the following subset of <span class=\"codeX\">d</span>, created as follows:<br><br>\n",
    "         \n",
    "<span class=\"codeX\">subset_d <- d[,\"x\"]</span><br><br>\n",
    "         \n",
    "What class or Data Structure would be <span class=\"codeX\">subset_d</span>?<br><br>\n",
    "         \n",
    "<br><div class=\"qhelp\"></div></div>\n"
   ]
  },
  {
   "cell_type": "markdown",
   "metadata": {},
   "source": [
    "<div class=\"Q\"><br><br>\n",
    "\n",
    "    \n",
    "Given the following Data Frame <span class=\"codeX\">d</span>:<br><br>\n",
    "    \n",
    "<span class=\"codeX\">d <- data.frame(x=2:6, y=3:7, z=4:8)</span><br><br>\n",
    "         \n",
    "and given the following subset of <span class=\"codeX\">d</span>, created as follows:<br><br>\n",
    "         \n",
    "<span class=\"codeX\">subset_d <- d$x</span><br><br>\n",
    "         \n",
    "What class or Data Structure would be <span class=\"codeX\">subset_d</span>?<br><br>\n",
    "         \n",
    "<br><div class=\"qhelp\"></div></div>\n"
   ]
  },
  {
   "cell_type": "markdown",
   "metadata": {},
   "source": [
    "<div class=\"Q\"><br><br>\n",
    "\n",
    "    \n",
    "Given the following Data Frame <span class=\"codeX\">d</span>:<br><br>\n",
    "    \n",
    "<span class=\"codeX\">d <- data.frame(x=2:6, y=3:7, z=4:8)</span><br><br>\n",
    "         \n",
    "and given the following subset of <span class=\"codeX\">d</span>, created as follows:<br><br>\n",
    "         \n",
    "<span class=\"codeX\">subset_d <- d[\"x\"]</span><br><br>\n",
    "         \n",
    "What class or Data Structure would be <span class=\"codeX\">subset_d</span>?\n",
    "         \n",
    "<br><div class=\"qhelp\"></div></div>\n"
   ]
  },
  {
   "cell_type": "markdown",
   "metadata": {},
   "source": [
    "-------------------\n",
    "\n",
    "Some parts of this lab where borrowed from:\n",
    "\n",
    "* [Software Carpentry](https://software-carpentry.org/)\n",
    "* [Data Carpentry](https://datacarpentry.org/)\n",
    "* [Spatial Data Science with R](https://rspatial.org/)"
   ]
  },
  {
   "cell_type": "markdown",
   "metadata": {},
   "source": [
    "<div class=\"big_title\">This is the end of lab</div>\n",
    "\n",
    "*******************\n",
    "*******************\n",
    "\n",
    "Code below is for formatting of this lab. Do not alter!"
   ]
  },
  {
   "cell_type": "code",
   "execution_count": 1,
   "metadata": {},
   "outputs": [
    {
     "data": {
      "text/html": [
       "<style>\n",
       "\n",
       "body {\n",
       "  counter-reset: question_num task_num;                     /* Set a counter named 'section', and it`s initial value is 0. */\n",
       "}\n",
       "\n",
       "/* Question Box */\n",
       ".Q {\n",
       "    background-color:#ff9900;\n",
       "    color:black;\n",
       "    font-size:17px;\n",
       "    width:100%;\n",
       "    border:1px solid #666666;\n",
       "    padding:5px;\n",
       "}\n",
       "\n",
       ".Q::before {\n",
       "    counter-increment: question_num;\n",
       "    content: \"QUESTION \" counter(question_num) '\\A';\n",
       "    white-space: pre;\n",
       "}\n",
       "\n",
       "\n",
       "/* Question Box */\n",
       ".T {\n",
       "    background-color:#00F7FF;\n",
       "    color:black;\n",
       "    font-size:17px;\n",
       "    font-weight: bold;\n",
       "    width:10%;\n",
       "    padding:5px;\n",
       "}\n",
       "\n",
       "\n",
       ".T::before {\n",
       "    counter-increment: task_num;\n",
       "    content: \"Task \" counter(task_num) ': ';\n",
       "}\n",
       "\n",
       "\n",
       ".qhelp {\n",
       "    color:#666666;\n",
       "    font-size:15px\n",
       "}\n",
       "\n",
       ".qhelp::after {\n",
       "    content: \"Answer this question in the corresponding Brightspace LAB quiz\"\n",
       "}\n",
       "\n",
       "\n",
       "\n",
       "/* code */\n",
       ".rendered_html pre, .rendered_html code {\n",
       "    font-family: \"SF Mono\",\"Segoe UI Mono\",\"Roboto Mono\",\"Ubuntu Mono\",Menlo,Courier,monospace;\n",
       "    padding: 1px 3px;\n",
       "    border: 1px solid #e6e6e6;\n",
       "    border-radius: 3px;\n",
       "    background: #e6e6e6;\n",
       "    font-size: 12px;\n",
       "    line-height: 1.4;\n",
       "    color: #0052CC;\n",
       "}\n",
       "\n",
       "\n",
       "/* Console */\n",
       ".console {\n",
       "    background-color:#d2d2d2;\n",
       "    color:#FF2525;\n",
       "    font-size:12px;\n",
       "    line-height: 1.4;\n",
       "    border:1px solid #bfbfbf;\n",
       "    padding-top:0px;\n",
       "    padding-bottom:0px;\n",
       "    padding-left:3px;\n",
       "    padding-right:3px;\n",
       "    border-radius: 3px;\n",
       "    display: inline-block;\n",
       "}\n",
       ".console::before {\n",
       "    content: \"Console\";\n",
       "}\n",
       "\n",
       "/* Editor */\n",
       ".editor {\n",
       "    background-color:#d2d2d2;\n",
       "    color:#00b300;\n",
       "    font-size: 12px;\n",
       "    line-height: 1.4;\n",
       "    border:1px solid #bfbfbf;\n",
       "    padding-top:0px;\n",
       "    padding-bottom:0px;\n",
       "    padding-left:3px;\n",
       "    padding-right:3px;\n",
       "    border-radius: 3px;\n",
       "    display: inline-block;\n",
       "}\n",
       ".editor::before {\n",
       "    content: \"Editor\";\n",
       "}\n",
       "\n",
       "\n",
       "\n",
       "/* Copy to CONSOLE */\n",
       ".c2c {\n",
       "    background-color:#d2d2d2;\n",
       "    color:#ff8080;\n",
       "    font-size:13px;\n",
       "    border:1px solid #bfbfbf;\n",
       "    padding:1px 3px;\n",
       "    border-radius: 3px;\n",
       "    margin-top: 10px;\n",
       "    display: inline-block;\n",
       "}\n",
       "\n",
       ".c2c::before {\n",
       "    content: \"Copy-paste into Spyder's Console\";\n",
       "}\n",
       "\n",
       "/* Type in CONSOLE */\n",
       ".t2c {\n",
       "    background-color:#d2d2d2;\n",
       "    color:#ff8080;\n",
       "    font-size:13px;\n",
       "    border:1px solid #bfbfbf;\n",
       "    padding:1px 3px;\n",
       "    border-radius: 3px;\n",
       "    margin-top: 10px;\n",
       "    display: inline-block;\n",
       "}\n",
       "\n",
       ".t2c::before {\n",
       "    content: \"Type into Spyder's Console\";\n",
       "}\n",
       "\n",
       "\n",
       "/* SOURCE */\n",
       ".source {\n",
       "    background-color:#d2d2d2;\n",
       "    color:#009EBF;\n",
       "    font-size: 12px;\n",
       "    line-height: 1.4;\n",
       "    font-weight: bold;\n",
       "    border:1px solid #bfbfbf;\n",
       "    padding-top:0px;\n",
       "    padding-bottom:0px;\n",
       "    padding-left:3px;\n",
       "    padding-right:3px;\n",
       "    border-radius: 3px;\n",
       "    display: inline-block;\n",
       "}\n",
       ".source::before {\n",
       "    content: \"\\25B6\" \"Source\";\n",
       "}\n",
       "\n",
       "\n",
       "/* RUN */\n",
       ".run {\n",
       "    background-color:#d2d2d2;\n",
       "    color:#00b300;\n",
       "    font-size: 12px;\n",
       "    line-height: 1.4;\n",
       "    font-weight: bold;\n",
       "    border:1px solid #bfbfbf;\n",
       "    padding-top:0px;\n",
       "    padding-bottom:0px;\n",
       "    padding-left:3px;\n",
       "    padding-right:3px;\n",
       "    border-radius: 3px;\n",
       "    display: inline-block;\n",
       "}\n",
       ".run::before {\n",
       "    content: \"\\25B6\" \"RUN\";\n",
       "}\n",
       "\n",
       "/* RUN */\n",
       ".runcell {\n",
       "    background-color:#d2d2d2;\n",
       "    color:#00b300;\n",
       "    font-size: 12px;\n",
       "    line-height: 1.4;\n",
       "    border:1px solid #bfbfbf;\n",
       "    padding-top:0px;\n",
       "    padding-bottom:0px;\n",
       "    padding-left:3px;\n",
       "    padding-right:3px;\n",
       "    border-radius: 3px;\n",
       "    display: inline-block;\n",
       "}\n",
       ".runcell::before {\n",
       "    content: \"RUN current cell\";\n",
       "}\n",
       "\n",
       "/* FILE */\n",
       ".file {\n",
       "    color:#b36b00;\n",
       "    font-size: 12px;\n",
       "    line-height: 1.4;\n",
       "    font-weight: bold;\n",
       "    border:1px solid #bfbfbf;\n",
       "    padding-top:0px;\n",
       "    padding-bottom:0px;\n",
       "    padding-left:3px;\n",
       "    padding-right:3px;\n",
       "    border-radius: 3px;\n",
       "    display: inline-block;\n",
       "}\n",
       "\n",
       "/* important */\n",
       ".important {\n",
       "    background-color:#ff4d4d;\n",
       "    color:black;\n",
       "    font-size: 13px;\n",
       "    line-height: 1.4;\n",
       "    font-weight: bold;\n",
       "    border:1px solid #bfbfbf;\n",
       "    padding-top:0px;\n",
       "    padding-bottom:0px;\n",
       "    padding-left:3px;\n",
       "    padding-right:3px;\n",
       "    border-radius: 3px;\n",
       "    display: inline-block;\n",
       "    margin-top:5px;\n",
       "}\n",
       ".important::before {\n",
       "    content: \"Important:\";\n",
       "}\n",
       "\n",
       "/* important */\n",
       ".note {\n",
       "    background-color:#ffff80;\n",
       "    color:black;\n",
       "    font-size: 13px;\n",
       "    line-height: 1.4;\n",
       "    font-weight: bold;\n",
       "    border:1px solid #bfbfbf;\n",
       "    padding-top:0px;\n",
       "    padding-bottom:0px;\n",
       "    padding-left:3px;\n",
       "    padding-right:3px;\n",
       "    border-radius: 3px;\n",
       "    display: inline-block;\n",
       "    margin-top:5px;\n",
       "}\n",
       ".note::before {\n",
       "    content: \"Note:\";\n",
       "}\n",
       "\n",
       "\n",
       "/* TODO */\n",
       ".TODO {\n",
       "    background-color:red;\n",
       "    color:black;\n",
       "    font-size:18px;\n",
       "    width:100%;\n",
       "    padding:10px;\n",
       "}\n",
       ".TODO::before {\n",
       "    content: \"TO-DO:\";\n",
       "}\n",
       "\n",
       "\n",
       ".nomenclature {\n",
       "    font-family: \"SF Mono\",\"Segoe UI Mono\",\"Roboto Mono\",\"Ubuntu Mono\",Menlo,Courier,monospace;\n",
       "    background-color:#ffff80;\n",
       "    color:black;\n",
       "    font-size: 20px;\n",
       "    line-height: 1.4;\n",
       "    font-weight: bold;\n",
       "    border:1px solid #bfbfbf;\n",
       "    padding:15px;\n",
       "    display: inline-block;\n",
       "    margin-top:5px;\n",
       "}\n",
       "\n",
       "\n",
       "\n",
       ".big_title {\n",
       "    background-color:#cccccc;\n",
       "    color:black;\n",
       "    font-size: 35px;\n",
       "    line-height: 1.4;\n",
       "    font-weight: bold;\n",
       "    border:1px solid #8c8c8c;\n",
       "    padding:20px;\n",
       "    margin-top:5px;\n",
       "    width:100%;\n",
       "}\n",
       "\n",
       "\n",
       ".codeX {\n",
       "    font-family: \"SF Mono\",\"Segoe UI Mono\",\"Roboto Mono\",\"Ubuntu Mono\",Menlo,Courier,monospace;\n",
       "    background-color:#e6e6e6;\n",
       "    color:#0066ff;\n",
       "    font-size: 13px;\n",
       "    line-height: 1.4;\n",
       "    padding:2px;\n",
       "}\n",
       "\n",
       "\n",
       "\n",
       "/* checkpoint */\n",
       ".checkpoint {\n",
       "    background-color:yellow;\n",
       "    color:blue;\n",
       "    font-size: 15px;\n",
       "    line-height: 1.4;\n",
       "    font-weight: bold;\n",
       "    border:1px solid #bfbfbf;\n",
       "    padding-top:0px;\n",
       "    padding-bottom:0px;\n",
       "    padding-left:3px;\n",
       "    padding-right:3px;\n",
       "    border-radius: 3px;\n",
       "    display: inline-block;\n",
       "    margin-top:5px;\n",
       "}\n",
       "\n",
       ".codeerror {\n",
       "    background-color:#ffb3b3;\n",
       "    color:red;\n",
       "    font-size: 13px;\n",
       "    line-height: 1.4;\n",
       "    border:1px solid #ffb3b3;\n",
       "    padding-top:7px;\n",
       "    padding-bottom:7px;\n",
       "    padding-left:7px;\n",
       "    padding-right:7px;\n",
       "    border-radius: 3px;\n",
       "    margin:20px;\n",
       "    margin-left:25px;\n",
       "}\n",
       "\n",
       ".lineerror {\n",
       "    background-color:#ffb3b3;\n",
       "    color:red;\n",
       "    font-size: 13px;\n",
       "    line-height: 1.4;\n",
       "    border:1px solid #ffb3b3;\n",
       "    padding-top:0px;\n",
       "    padding-bottom:0px;\n",
       "    padding-left:3px;\n",
       "    padding-right:3px;\n",
       "    border-radius: 3px;\n",
       "    display: inline-block;\n",
       "    margin-top:5px;\n",
       "}\n",
       "\n",
       "\n",
       "/* terminal */\n",
       ".terminal {\n",
       "    background-color:black;\n",
       "    color:white;\n",
       "    font-size: 12px;\n",
       "    line-height: 1.4;\n",
       "    border:1px solid black;\n",
       "    padding-top:0px;\n",
       "    padding-bottom:0px;\n",
       "    padding-left:3px;\n",
       "    padding-right:3px;\n",
       "    border-radius: 3px;\n",
       "    display: inline-block;\n",
       "}\n",
       ".terminal::before {\n",
       "    content: \"Terminal (i.e. Anaconda Promt)\";\n",
       "}\n",
       ".terminalBlock {\n",
       "    background-color:black;\n",
       "    color:white;\n",
       "    font-size: 14px;\n",
       "    line-height: 1.4;\n",
       "    border:1px solid black;\n",
       "    padding-top:7px;\n",
       "    padding-bottom:7px;\n",
       "    padding-left:7px;\n",
       "    padding-right:7px;\n",
       "    border-radius: 3px;\n",
       "    margin:20px;\n",
       "    margin-left:25px;\n",
       "}\n",
       "\n",
       "/* Headers */\n",
       "h1 {\n",
       "    background-color:#99d6ff;\n",
       "    border:1px solid #007acc;\n",
       "    padding:8px;\n",
       "}\n",
       "\n",
       "h2 {\n",
       "    background-color:#ccebff;\n",
       "    border:1px solid #b3e0ff;\n",
       "    padding:2px;\n",
       "}\n",
       "\n",
       "h3 {\n",
       "    background-color:#e6f5ff;\n",
       "    padding:1px;\n",
       "}\n",
       "\n",
       "</style>"
      ]
     },
     "metadata": {},
     "output_type": "display_data"
    },
    {
     "data": {
      "text/html": [
       "<style>.Q::before {counter-increment: question_num;\n",
       "    content: 'QUESTION ' counter(question_num) ': '; white-space: pre; }.T::before {counter-increment: task_num;\n",
       "    content: 'Task ' counter(task_num) ': ';</style>"
      ]
     },
     "metadata": {},
     "output_type": "display_data"
    }
   ],
   "source": [
    "cssFile <- '../css/custom.css'\n",
    "IRdisplay::display_html(readChar(cssFile, file.info(cssFile)$size))\n",
    "\n",
    "IRdisplay::display_html(\"<style>.Q::before {counter-increment: question_num;\n",
    "    content: 'QUESTION ' counter(question_num) ': '; white-space: pre; }.T::before {counter-increment: task_num;\n",
    "    content: 'Task ' counter(task_num) ': ';</style>\")"
   ]
  },
  {
   "cell_type": "code",
   "execution_count": null,
   "metadata": {},
   "outputs": [],
   "source": []
  }
 ],
 "metadata": {
  "kernelspec": {
   "display_name": "R",
   "language": "R",
   "name": "ir"
  },
  "language_info": {
   "codemirror_mode": "r",
   "file_extension": ".r",
   "mimetype": "text/x-r-source",
   "name": "R",
   "pygments_lexer": "r",
   "version": "3.6.1"
  }
 },
 "nbformat": 4,
 "nbformat_minor": 4
}
